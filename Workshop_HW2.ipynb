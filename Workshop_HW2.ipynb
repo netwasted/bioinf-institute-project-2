{
  "nbformat": 4,
  "nbformat_minor": 0,
  "metadata": {
    "colab": {
      "provenance": [],
      "collapsed_sections": []
    },
    "kernelspec": {
      "name": "python3",
      "display_name": "Python 3"
    },
    "language_info": {
      "name": "python"
    }
  },
  "cells": [
    {
      "cell_type": "markdown",
      "source": [
        "# Project \\#2. “Why did I get the flu?”. Deep sequencing, error control, p-value, viral evolution..\n",
        "\n",
        "# Lab Notebook\n"
      ],
      "metadata": {
        "id": "__elWI9Jdc_H"
      }
    },
    {
      "cell_type": "markdown",
      "source": [
        "## 1. Inspect the data from your roommate"
      ],
      "metadata": {
        "id": "OtoeOvDSdmy6"
      }
    },
    {
      "cell_type": "code",
      "execution_count": null,
      "metadata": {
        "id": "pesYYUKcEANA",
        "colab": {
          "base_uri": "https://localhost:8080/"
        },
        "outputId": "f1e13ac2-662f-42d2-9aef-862384faa9f4"
      },
      "outputs": [
        {
          "output_type": "stream",
          "name": "stdout",
          "text": [
            "--2022-11-11 14:16:19--  http://ftp.sra.ebi.ac.uk/vol1/fastq/SRR170/001/SRR1705851/SRR1705851.fastq.gz\n",
            "Resolving ftp.sra.ebi.ac.uk (ftp.sra.ebi.ac.uk)... 193.62.193.138\n",
            "Connecting to ftp.sra.ebi.ac.uk (ftp.sra.ebi.ac.uk)|193.62.193.138|:80... connected.\n",
            "HTTP request sent, awaiting response... 200 OK\n",
            "Length: 19217176 (18M) [application/x-gzip]\n",
            "Saving to: ‘SRR1705851.fastq.gz’\n",
            "\n",
            "SRR1705851.fastq.gz 100%[===================>]  18.33M  2.49MB/s    in 8.2s    \n",
            "\n",
            "2022-11-11 14:16:28 (2.23 MB/s) - ‘SRR1705851.fastq.gz’ saved [19217176/19217176]\n",
            "\n"
          ]
        }
      ],
      "source": [
        "!wget http://ftp.sra.ebi.ac.uk/vol1/fastq/SRR170/001/SRR1705851/SRR1705851.fastq.gz"
      ]
    },
    {
      "cell_type": "code",
      "source": [
        "!gzip -d SRR1705851.fastq.gz"
      ],
      "metadata": {
        "id": "NoZ3xKBOeC4X"
      },
      "execution_count": null,
      "outputs": []
    },
    {
      "cell_type": "markdown",
      "source": [
        "## 2. Align your roommate’s data to the reference sequence"
      ],
      "metadata": {
        "id": "p0u4kZQ-dqDi"
      }
    },
    {
      "cell_type": "code",
      "source": [
        "!pip install biopython "
      ],
      "metadata": {
        "colab": {
          "base_uri": "https://localhost:8080/"
        },
        "id": "-veCq8SXttyE",
        "outputId": "c46e3f6a-ef25-4fb1-ceaa-26c74950714e"
      },
      "execution_count": null,
      "outputs": [
        {
          "output_type": "stream",
          "name": "stdout",
          "text": [
            "Looking in indexes: https://pypi.org/simple, https://us-python.pkg.dev/colab-wheels/public/simple/\n",
            "Collecting biopython\n",
            "  Downloading biopython-1.79-cp37-cp37m-manylinux_2_17_x86_64.manylinux2014_x86_64.whl (2.6 MB)\n",
            "\u001b[K     |████████████████████████████████| 2.6 MB 8.0 MB/s \n",
            "\u001b[?25hRequirement already satisfied: numpy in /usr/local/lib/python3.7/dist-packages (from biopython) (1.21.6)\n",
            "Installing collected packages: biopython\n",
            "Successfully installed biopython-1.79\n"
          ]
        }
      ]
    },
    {
      "cell_type": "code",
      "source": [
        "import Bio"
      ],
      "metadata": {
        "id": "XahZB3VAt1zg"
      },
      "execution_count": null,
      "outputs": []
    },
    {
      "cell_type": "code",
      "source": [
        "# we can download fasta sequence using buopython\n",
        "\n",
        "from Bio import SeqIO, Entrez\n",
        "#Setting up your email to be able to use Entrez\n",
        "Entrez.email = 'anna.chechenina@alum.esci.upf.edu'\n",
        "#Here, we set up a temporary handle with our downloaded sequence in fasta format\n",
        "temp = Entrez.efetch(db=\"nucleotide\", rettype=\"fasta\", id=\"KF848938.1\")\n",
        "#Creating a fasta file to write our downloaded sequence\n",
        "aaseq_out = open(\"KF848938.1.fasta\",'w')\n",
        "#Reading the sequence information as a string in fasta format\n",
        "aaseq = SeqIO.read(temp, format=\"fasta\")\n",
        "#Writing the sequence record in fasta format\n",
        "SeqIO.write(aaseq,aaseq_out,\"fasta\")\n",
        "#Closing both the temp handle and the FASTA file\n",
        "temp.close()\n",
        "aaseq_out.close()"
      ],
      "metadata": {
        "id": "G6Ecce_Ato67"
      },
      "execution_count": null,
      "outputs": []
    },
    {
      "cell_type": "code",
      "source": [
        "# for Anastasia only - otherwise simply download the file\n",
        "!cp /content/drive/MyDrive/BIOINF/Practice/Project_2/KF848938.1.fasta /content/KF848938.1.fasta"
      ],
      "metadata": {
        "id": "DoWVgH1KggBY",
        "colab": {
          "base_uri": "https://localhost:8080/"
        },
        "outputId": "00fe6045-e15f-447f-f0f7-1faad0a2dc00"
      },
      "execution_count": null,
      "outputs": [
        {
          "output_type": "stream",
          "name": "stdout",
          "text": [
            "cp: cannot stat '/content/drive/MyDrive/BIOINF/Practice/Project_2/KF848938.1.fasta': No such file or directory\n"
          ]
        }
      ]
    },
    {
      "cell_type": "code",
      "source": [
        "!apt-get install bwa"
      ],
      "metadata": {
        "colab": {
          "base_uri": "https://localhost:8080/"
        },
        "id": "zSrUBqFSoiLT",
        "outputId": "96bcf8ec-affa-4298-95de-dfc55b5cc8ea"
      },
      "execution_count": null,
      "outputs": [
        {
          "output_type": "stream",
          "name": "stdout",
          "text": [
            "Reading package lists... Done\n",
            "Building dependency tree       \n",
            "Reading state information... Done\n",
            "The following package was automatically installed and is no longer required:\n",
            "  libnvidia-common-460\n",
            "Use 'apt autoremove' to remove it.\n",
            "Suggested packages:\n",
            "  samtools\n",
            "The following NEW packages will be installed:\n",
            "  bwa\n",
            "0 upgraded, 1 newly installed, 0 to remove and 5 not upgraded.\n",
            "Need to get 176 kB of archives.\n",
            "After this operation, 404 kB of additional disk space will be used.\n",
            "Get:1 http://archive.ubuntu.com/ubuntu bionic-updates/universe amd64 bwa amd64 0.7.17-1ubuntu0.1 [176 kB]\n",
            "Fetched 176 kB in 1s (216 kB/s)\n",
            "Selecting previously unselected package bwa.\n",
            "(Reading database ... 123942 files and directories currently installed.)\n",
            "Preparing to unpack .../bwa_0.7.17-1ubuntu0.1_amd64.deb ...\n",
            "Unpacking bwa (0.7.17-1ubuntu0.1) ...\n",
            "Setting up bwa (0.7.17-1ubuntu0.1) ...\n",
            "Processing triggers for man-db (2.8.3-2ubuntu0.1) ...\n"
          ]
        }
      ]
    },
    {
      "cell_type": "code",
      "source": [
        "!bwa index /content/KF848938.1.fasta"
      ],
      "metadata": {
        "colab": {
          "base_uri": "https://localhost:8080/"
        },
        "id": "m9pJ1TE_ozQ9",
        "outputId": "8b48a9b8-e9ea-4d4c-b122-6848ceedba8c"
      },
      "execution_count": null,
      "outputs": [
        {
          "output_type": "stream",
          "name": "stdout",
          "text": [
            "[bwa_index] Pack FASTA... 0.00 sec\n",
            "[bwa_index] Construct BWT for the packed sequence...\n",
            "[bwa_index] 0.00 seconds elapse.\n",
            "[bwa_index] Update BWT... 0.00 sec\n",
            "[bwa_index] Pack forward-only FASTA... 0.00 sec\n",
            "[bwa_index] Construct SA from BWT and Occ... 0.00 sec\n",
            "[main] Version: 0.7.17-r1188\n",
            "[main] CMD: bwa index /content/KF848938.1.fasta\n",
            "[main] Real time: 0.047 sec; CPU: 0.015 sec\n"
          ]
        }
      ]
    },
    {
      "cell_type": "code",
      "source": [
        "!apt-get install -y samtools"
      ],
      "metadata": {
        "colab": {
          "base_uri": "https://localhost:8080/"
        },
        "id": "Vqcq5TymozW7",
        "outputId": "64cdc1e0-a9ed-4a1c-954b-68fffc4f1a88"
      },
      "execution_count": null,
      "outputs": [
        {
          "output_type": "stream",
          "name": "stdout",
          "text": [
            "Reading package lists... Done\n",
            "Building dependency tree       \n",
            "Reading state information... Done\n",
            "The following package was automatically installed and is no longer required:\n",
            "  libnvidia-common-460\n",
            "Use 'apt autoremove' to remove it.\n",
            "The following additional packages will be installed:\n",
            "  cwltool libc-ares2 libhts2 libjs-bootstrap nodejs nodejs-doc\n",
            "  python-asn1crypto python-avro python-cachecontrol python-certifi\n",
            "  python-cffi-backend python-chardet python-cryptography python-enum34\n",
            "  python-html5lib python-idna python-ipaddress python-isodate python-lockfile\n",
            "  python-mistune python-openssl python-pkg-resources python-pyparsing\n",
            "  python-rdflib python-rdflib-jsonld python-requests python-ruamel.yaml\n",
            "  python-schema-salad python-shellescape python-six python-sparqlwrapper\n",
            "  python-typing python-urllib3 python-webencodings\n",
            "Suggested packages:\n",
            "  python-cryptography-doc python-cryptography-vectors python-enum34-doc\n",
            "  python-genshi python-lxml python-lockfile-doc python-openssl-doc\n",
            "  python-openssl-dbg python-setuptools python-pyparsing-doc python-rdflib-doc\n",
            "  python-rdflib-tools python-socks python-ntlm\n",
            "The following NEW packages will be installed:\n",
            "  cwltool libc-ares2 libhts2 libjs-bootstrap nodejs nodejs-doc\n",
            "  python-asn1crypto python-avro python-cachecontrol python-certifi\n",
            "  python-cffi-backend python-chardet python-cryptography python-enum34\n",
            "  python-html5lib python-idna python-ipaddress python-isodate python-lockfile\n",
            "  python-mistune python-openssl python-pkg-resources python-pyparsing\n",
            "  python-rdflib python-rdflib-jsonld python-requests python-ruamel.yaml\n",
            "  python-schema-salad python-shellescape python-six python-sparqlwrapper\n",
            "  python-typing python-urllib3 python-webencodings samtools\n",
            "0 upgraded, 35 newly installed, 0 to remove and 5 not upgraded.\n",
            "Need to get 8,568 kB of archives.\n",
            "After this operation, 41.0 MB of additional disk space will be used.\n",
            "Get:1 http://archive.ubuntu.com/ubuntu bionic/main amd64 python-pkg-resources all 39.0.1-2 [128 kB]\n",
            "Get:2 http://archive.ubuntu.com/ubuntu bionic/main amd64 python-six all 1.11.0-2 [11.3 kB]\n",
            "Get:3 http://archive.ubuntu.com/ubuntu bionic/universe amd64 python-isodate all 0.6.0-1 [23.8 kB]\n",
            "Get:4 http://archive.ubuntu.com/ubuntu bionic/main amd64 python-pyparsing all 2.2.0+dfsg1-2 [52.1 kB]\n",
            "Get:5 http://archive.ubuntu.com/ubuntu bionic/universe amd64 python-rdflib all 4.2.1-2 [237 kB]\n",
            "Get:6 http://archive.ubuntu.com/ubuntu bionic/main amd64 python-certifi all 2018.1.18-2 [144 kB]\n",
            "Get:7 http://archive.ubuntu.com/ubuntu bionic/main amd64 python-chardet all 3.0.4-1 [80.3 kB]\n",
            "Get:8 http://archive.ubuntu.com/ubuntu bionic/main amd64 python-idna all 2.6-1 [32.4 kB]\n",
            "Get:9 http://archive.ubuntu.com/ubuntu bionic-updates/main amd64 python-urllib3 all 1.22-1ubuntu0.18.04.2 [86.0 kB]\n",
            "Get:10 http://archive.ubuntu.com/ubuntu bionic-updates/main amd64 python-requests all 2.18.4-2ubuntu0.1 [58.5 kB]\n",
            "Get:11 http://archive.ubuntu.com/ubuntu bionic/universe amd64 python-ruamel.yaml amd64 0.15.34-1 [183 kB]\n",
            "Get:12 http://archive.ubuntu.com/ubuntu bionic/universe amd64 python-cachecontrol all 0.11.7-1 [15.2 kB]\n",
            "Get:13 http://archive.ubuntu.com/ubuntu bionic/main amd64 python-lockfile all 1:0.12.2-2 [14.6 kB]\n",
            "Get:14 http://archive.ubuntu.com/ubuntu bionic/universe amd64 python-mistune all 0.8.3-2 [13.8 kB]\n",
            "Get:15 http://archive.ubuntu.com/ubuntu bionic/universe amd64 python-rdflib-jsonld all 0.4.0-3 [12.2 kB]\n",
            "Get:16 http://archive.ubuntu.com/ubuntu bionic/universe amd64 python-typing all 3.6.2-1 [22.2 kB]\n",
            "Get:17 http://archive.ubuntu.com/ubuntu bionic/universe amd64 python-avro all 1.8.2+dfsg-1 [23.2 kB]\n",
            "Get:18 http://archive.ubuntu.com/ubuntu bionic/universe amd64 libjs-bootstrap all 3.3.7+dfsg-2 [228 kB]\n",
            "Get:19 http://archive.ubuntu.com/ubuntu bionic/universe amd64 python-schema-salad all 2.6.20171201034858-3 [260 kB]\n",
            "Get:20 http://archive.ubuntu.com/ubuntu bionic/universe amd64 python-shellescape all 3.4.1-2 [4,432 B]\n",
            "Get:21 http://archive.ubuntu.com/ubuntu bionic/universe amd64 cwltool all 1.0.20180302231433-1 [143 kB]\n",
            "Get:22 http://archive.ubuntu.com/ubuntu bionic/universe amd64 libhts2 amd64 1.7-2 [300 kB]\n",
            "Get:23 http://archive.ubuntu.com/ubuntu bionic-updates/universe amd64 nodejs-doc all 8.10.0~dfsg-2ubuntu0.4 [752 kB]\n",
            "Get:24 http://archive.ubuntu.com/ubuntu bionic/main amd64 python-asn1crypto all 0.24.0-1 [72.7 kB]\n",
            "Get:25 http://archive.ubuntu.com/ubuntu bionic/main amd64 python-cffi-backend amd64 1.11.5-1 [63.4 kB]\n",
            "Get:26 http://archive.ubuntu.com/ubuntu bionic/main amd64 python-enum34 all 1.1.6-2 [34.8 kB]\n",
            "Get:27 http://archive.ubuntu.com/ubuntu bionic/main amd64 python-ipaddress all 1.0.17-1 [18.2 kB]\n",
            "Get:28 http://archive.ubuntu.com/ubuntu bionic-updates/main amd64 python-cryptography amd64 2.1.4-1ubuntu1.4 [276 kB]\n",
            "Get:29 http://archive.ubuntu.com/ubuntu bionic/main amd64 python-webencodings all 0.5-2 [10.3 kB]\n",
            "Get:30 http://archive.ubuntu.com/ubuntu bionic/main amd64 python-html5lib all 0.999999999-1 [83.6 kB]\n",
            "Get:31 http://archive.ubuntu.com/ubuntu bionic/main amd64 python-openssl all 17.5.0-1ubuntu1 [41.3 kB]\n",
            "Get:32 http://archive.ubuntu.com/ubuntu bionic/universe amd64 python-sparqlwrapper all 1.7.6-2 [21.8 kB]\n",
            "Get:33 http://archive.ubuntu.com/ubuntu bionic/universe amd64 samtools amd64 1.7-1 [288 kB]\n",
            "Get:34 http://archive.ubuntu.com/ubuntu bionic-updates/main amd64 libc-ares2 amd64 1.14.0-1ubuntu0.1 [37.5 kB]\n",
            "Get:35 http://archive.ubuntu.com/ubuntu bionic-updates/universe amd64 nodejs amd64 8.10.0~dfsg-2ubuntu0.4 [4,796 kB]\n",
            "Fetched 8,568 kB in 1s (7,968 kB/s)\n",
            "Extracting templates from packages: 100%\n",
            "Selecting previously unselected package python-pkg-resources.\n",
            "(Reading database ... 123959 files and directories currently installed.)\n",
            "Preparing to unpack .../00-python-pkg-resources_39.0.1-2_all.deb ...\n",
            "Unpacking python-pkg-resources (39.0.1-2) ...\n",
            "Selecting previously unselected package python-six.\n",
            "Preparing to unpack .../01-python-six_1.11.0-2_all.deb ...\n",
            "Unpacking python-six (1.11.0-2) ...\n",
            "Selecting previously unselected package python-isodate.\n",
            "Preparing to unpack .../02-python-isodate_0.6.0-1_all.deb ...\n",
            "Unpacking python-isodate (0.6.0-1) ...\n",
            "Selecting previously unselected package python-pyparsing.\n",
            "Preparing to unpack .../03-python-pyparsing_2.2.0+dfsg1-2_all.deb ...\n",
            "Unpacking python-pyparsing (2.2.0+dfsg1-2) ...\n",
            "Selecting previously unselected package python-rdflib.\n",
            "Preparing to unpack .../04-python-rdflib_4.2.1-2_all.deb ...\n",
            "Unpacking python-rdflib (4.2.1-2) ...\n",
            "Selecting previously unselected package python-certifi.\n",
            "Preparing to unpack .../05-python-certifi_2018.1.18-2_all.deb ...\n",
            "Unpacking python-certifi (2018.1.18-2) ...\n",
            "Selecting previously unselected package python-chardet.\n",
            "Preparing to unpack .../06-python-chardet_3.0.4-1_all.deb ...\n",
            "Unpacking python-chardet (3.0.4-1) ...\n",
            "Selecting previously unselected package python-idna.\n",
            "Preparing to unpack .../07-python-idna_2.6-1_all.deb ...\n",
            "Unpacking python-idna (2.6-1) ...\n",
            "Selecting previously unselected package python-urllib3.\n",
            "Preparing to unpack .../08-python-urllib3_1.22-1ubuntu0.18.04.2_all.deb ...\n",
            "Unpacking python-urllib3 (1.22-1ubuntu0.18.04.2) ...\n",
            "Selecting previously unselected package python-requests.\n",
            "Preparing to unpack .../09-python-requests_2.18.4-2ubuntu0.1_all.deb ...\n",
            "Unpacking python-requests (2.18.4-2ubuntu0.1) ...\n",
            "Selecting previously unselected package python-ruamel.yaml.\n",
            "Preparing to unpack .../10-python-ruamel.yaml_0.15.34-1_amd64.deb ...\n",
            "Unpacking python-ruamel.yaml (0.15.34-1) ...\n",
            "Selecting previously unselected package python-cachecontrol.\n",
            "Preparing to unpack .../11-python-cachecontrol_0.11.7-1_all.deb ...\n",
            "Unpacking python-cachecontrol (0.11.7-1) ...\n",
            "Selecting previously unselected package python-lockfile.\n",
            "Preparing to unpack .../12-python-lockfile_1%3a0.12.2-2_all.deb ...\n",
            "Unpacking python-lockfile (1:0.12.2-2) ...\n",
            "Selecting previously unselected package python-mistune.\n",
            "Preparing to unpack .../13-python-mistune_0.8.3-2_all.deb ...\n",
            "Unpacking python-mistune (0.8.3-2) ...\n",
            "Selecting previously unselected package python-rdflib-jsonld.\n",
            "Preparing to unpack .../14-python-rdflib-jsonld_0.4.0-3_all.deb ...\n",
            "Unpacking python-rdflib-jsonld (0.4.0-3) ...\n",
            "Selecting previously unselected package python-typing.\n",
            "Preparing to unpack .../15-python-typing_3.6.2-1_all.deb ...\n",
            "Unpacking python-typing (3.6.2-1) ...\n",
            "Selecting previously unselected package python-avro.\n",
            "Preparing to unpack .../16-python-avro_1.8.2+dfsg-1_all.deb ...\n",
            "Unpacking python-avro (1.8.2+dfsg-1) ...\n",
            "Selecting previously unselected package libjs-bootstrap.\n",
            "Preparing to unpack .../17-libjs-bootstrap_3.3.7+dfsg-2_all.deb ...\n",
            "Unpacking libjs-bootstrap (3.3.7+dfsg-2) ...\n",
            "Selecting previously unselected package python-schema-salad.\n",
            "Preparing to unpack .../18-python-schema-salad_2.6.20171201034858-3_all.deb ...\n",
            "Unpacking python-schema-salad (2.6.20171201034858-3) ...\n",
            "Selecting previously unselected package python-shellescape.\n",
            "Preparing to unpack .../19-python-shellescape_3.4.1-2_all.deb ...\n",
            "Unpacking python-shellescape (3.4.1-2) ...\n",
            "Selecting previously unselected package cwltool.\n",
            "Preparing to unpack .../20-cwltool_1.0.20180302231433-1_all.deb ...\n",
            "Unpacking cwltool (1.0.20180302231433-1) ...\n",
            "Selecting previously unselected package libhts2:amd64.\n",
            "Preparing to unpack .../21-libhts2_1.7-2_amd64.deb ...\n",
            "Unpacking libhts2:amd64 (1.7-2) ...\n",
            "Selecting previously unselected package nodejs-doc.\n",
            "Preparing to unpack .../22-nodejs-doc_8.10.0~dfsg-2ubuntu0.4_all.deb ...\n",
            "Unpacking nodejs-doc (8.10.0~dfsg-2ubuntu0.4) ...\n",
            "Selecting previously unselected package python-asn1crypto.\n",
            "Preparing to unpack .../23-python-asn1crypto_0.24.0-1_all.deb ...\n",
            "Unpacking python-asn1crypto (0.24.0-1) ...\n",
            "Selecting previously unselected package python-cffi-backend.\n",
            "Preparing to unpack .../24-python-cffi-backend_1.11.5-1_amd64.deb ...\n",
            "Unpacking python-cffi-backend (1.11.5-1) ...\n",
            "Selecting previously unselected package python-enum34.\n",
            "Preparing to unpack .../25-python-enum34_1.1.6-2_all.deb ...\n",
            "Unpacking python-enum34 (1.1.6-2) ...\n",
            "Selecting previously unselected package python-ipaddress.\n",
            "Preparing to unpack .../26-python-ipaddress_1.0.17-1_all.deb ...\n",
            "Unpacking python-ipaddress (1.0.17-1) ...\n",
            "Selecting previously unselected package python-cryptography.\n",
            "Preparing to unpack .../27-python-cryptography_2.1.4-1ubuntu1.4_amd64.deb ...\n",
            "Unpacking python-cryptography (2.1.4-1ubuntu1.4) ...\n",
            "Selecting previously unselected package python-webencodings.\n",
            "Preparing to unpack .../28-python-webencodings_0.5-2_all.deb ...\n",
            "Unpacking python-webencodings (0.5-2) ...\n",
            "Selecting previously unselected package python-html5lib.\n",
            "Preparing to unpack .../29-python-html5lib_0.999999999-1_all.deb ...\n",
            "Unpacking python-html5lib (0.999999999-1) ...\n",
            "Selecting previously unselected package python-openssl.\n",
            "Preparing to unpack .../30-python-openssl_17.5.0-1ubuntu1_all.deb ...\n",
            "Unpacking python-openssl (17.5.0-1ubuntu1) ...\n",
            "Selecting previously unselected package python-sparqlwrapper.\n",
            "Preparing to unpack .../31-python-sparqlwrapper_1.7.6-2_all.deb ...\n",
            "Unpacking python-sparqlwrapper (1.7.6-2) ...\n",
            "Selecting previously unselected package samtools.\n",
            "Preparing to unpack .../32-samtools_1.7-1_amd64.deb ...\n",
            "Unpacking samtools (1.7-1) ...\n",
            "Selecting previously unselected package libc-ares2:amd64.\n",
            "Preparing to unpack .../33-libc-ares2_1.14.0-1ubuntu0.1_amd64.deb ...\n",
            "Unpacking libc-ares2:amd64 (1.14.0-1ubuntu0.1) ...\n",
            "Selecting previously unselected package nodejs.\n",
            "Preparing to unpack .../34-nodejs_8.10.0~dfsg-2ubuntu0.4_amd64.deb ...\n",
            "Unpacking nodejs (8.10.0~dfsg-2ubuntu0.4) ...\n",
            "Setting up python-idna (2.6-1) ...\n",
            "Setting up nodejs-doc (8.10.0~dfsg-2ubuntu0.4) ...\n",
            "Setting up python-asn1crypto (0.24.0-1) ...\n",
            "Setting up python-mistune (0.8.3-2) ...\n",
            "Setting up python-certifi (2018.1.18-2) ...\n",
            "Setting up python-avro (1.8.2+dfsg-1) ...\n",
            "Setting up python-pkg-resources (39.0.1-2) ...\n",
            "Setting up python-ruamel.yaml (0.15.34-1) ...\n",
            "Setting up python-cffi-backend (1.11.5-1) ...\n",
            "Setting up python-six (1.11.0-2) ...\n",
            "Setting up python-isodate (0.6.0-1) ...\n",
            "Setting up python-shellescape (3.4.1-2) ...\n",
            "Setting up python-enum34 (1.1.6-2) ...\n",
            "Setting up libjs-bootstrap (3.3.7+dfsg-2) ...\n",
            "Setting up python-lockfile (1:0.12.2-2) ...\n",
            "Setting up python-ipaddress (1.0.17-1) ...\n",
            "Setting up libc-ares2:amd64 (1.14.0-1ubuntu0.1) ...\n",
            "Setting up libhts2:amd64 (1.7-2) ...\n",
            "Setting up python-webencodings (0.5-2) ...\n",
            "Setting up python-typing (3.6.2-1) ...\n",
            "Setting up python-pyparsing (2.2.0+dfsg1-2) ...\n",
            "Setting up python-urllib3 (1.22-1ubuntu0.18.04.2) ...\n",
            "Setting up python-chardet (3.0.4-1) ...\n",
            "Setting up nodejs (8.10.0~dfsg-2ubuntu0.4) ...\n",
            "update-alternatives: using /usr/bin/nodejs to provide /usr/bin/js (js) in auto mode\n",
            "Setting up python-rdflib (4.2.1-2) ...\n",
            "Setting up python-sparqlwrapper (1.7.6-2) ...\n",
            "Setting up python-rdflib-jsonld (0.4.0-3) ...\n",
            "Setting up python-cryptography (2.1.4-1ubuntu1.4) ...\n",
            "Setting up python-requests (2.18.4-2ubuntu0.1) ...\n",
            "Setting up python-cachecontrol (0.11.7-1) ...\n",
            "Setting up python-schema-salad (2.6.20171201034858-3) ...\n",
            "Setting up python-html5lib (0.999999999-1) ...\n",
            "Setting up samtools (1.7-1) ...\n",
            "Setting up python-openssl (17.5.0-1ubuntu1) ...\n",
            "Setting up cwltool (1.0.20180302231433-1) ...\n",
            "Processing triggers for libc-bin (2.27-3ubuntu1.6) ...\n",
            "Processing triggers for man-db (2.8.3-2ubuntu0.1) ...\n"
          ]
        }
      ]
    },
    {
      "cell_type": "code",
      "source": [
        "!bwa mem KF848938.1.fasta SRR1705851.fastq > res.sam "
      ],
      "metadata": {
        "colab": {
          "base_uri": "https://localhost:8080/"
        },
        "id": "o96s56napcwm",
        "outputId": "efffbd7c-5419-4324-a1c8-2547b97a7843"
      },
      "execution_count": null,
      "outputs": [
        {
          "output_type": "stream",
          "name": "stdout",
          "text": [
            "[M::bwa_idx_load_from_disk] read 0 ALT contigs\n",
            "[M::process] read 68388 sequences (10000129 bp)...\n",
            "[M::process] read 67628 sequences (10000233 bp)...\n",
            "[M::mem_process_seqs] Processed 68388 reads in 2.439 CPU sec, 2.388 real sec\n",
            "[M::process] read 67698 sequences (10000046 bp)...\n",
            "[M::mem_process_seqs] Processed 67628 reads in 1.855 CPU sec, 1.698 real sec\n",
            "[M::process] read 67652 sequences (10000169 bp)...\n",
            "[M::mem_process_seqs] Processed 67698 reads in 2.551 CPU sec, 2.403 real sec\n",
            "[M::process] read 68072 sequences (10000295 bp)...\n",
            "[M::mem_process_seqs] Processed 67652 reads in 2.484 CPU sec, 2.333 real sec\n",
            "[M::process] read 18827 sequences (2716992 bp)...\n",
            "[M::mem_process_seqs] Processed 68072 reads in 2.054 CPU sec, 1.948 real sec\n",
            "[M::mem_process_seqs] Processed 18827 reads in 0.997 CPU sec, 0.925 real sec\n",
            "[main] Version: 0.7.17-r1188\n",
            "[main] CMD: bwa mem KF848938.1.fasta SRR1705851.fastq\n",
            "[main] Real time: 12.041 sec; CPU: 12.471 sec\n"
          ]
        }
      ]
    },
    {
      "cell_type": "code",
      "source": [
        "!samtools view -S -b res.sam > res.bam"
      ],
      "metadata": {
        "id": "ABKscMhKCrA8"
      },
      "execution_count": null,
      "outputs": []
    },
    {
      "cell_type": "code",
      "source": [
        "!samtools flagstat res.bam"
      ],
      "metadata": {
        "id": "m3c6EziiCtyk",
        "colab": {
          "base_uri": "https://localhost:8080/"
        },
        "outputId": "7407a93a-09db-4c26-9d1a-7e12cb8601c7"
      },
      "execution_count": null,
      "outputs": [
        {
          "output_type": "stream",
          "name": "stdout",
          "text": [
            "361349 + 0 in total (QC-passed reads + QC-failed reads)\n",
            "0 + 0 secondary\n",
            "3084 + 0 supplementary\n",
            "0 + 0 duplicates\n",
            "361116 + 0 mapped (99.94% : N/A)\n",
            "0 + 0 paired in sequencing\n",
            "0 + 0 read1\n",
            "0 + 0 read2\n",
            "0 + 0 properly paired (N/A : N/A)\n",
            "0 + 0 with itself and mate mapped\n",
            "0 + 0 singletons (N/A : N/A)\n",
            "0 + 0 with mate mapped to a different chr\n",
            "0 + 0 with mate mapped to a different chr (mapQ>=5)\n"
          ]
        }
      ]
    },
    {
      "cell_type": "code",
      "source": [
        "!samtools sort res.bam > res.sorted.bam"
      ],
      "metadata": {
        "id": "XdK2W8YACzUj"
      },
      "execution_count": null,
      "outputs": []
    },
    {
      "cell_type": "code",
      "source": [
        "!samtools index res.sorted.bam"
      ],
      "metadata": {
        "id": "lJViKtb4C3V4"
      },
      "execution_count": null,
      "outputs": []
    },
    {
      "cell_type": "markdown",
      "source": [
        "## 3. Look for common variants with VarScan"
      ],
      "metadata": {
        "id": "6TDPVyendwiv"
      }
    },
    {
      "cell_type": "code",
      "source": [
        "!samtools mpileup -f /content/KF848938.1.fasta res.sorted.bam -d 361349 >  my.mpileup # -d max depth = number of reads"
      ],
      "metadata": {
        "id": "80DiVXjyC7Ga",
        "colab": {
          "base_uri": "https://localhost:8080/"
        },
        "outputId": "512a7c87-dd27-44f3-ebaf-955eca983326"
      },
      "execution_count": null,
      "outputs": [
        {
          "output_type": "stream",
          "name": "stdout",
          "text": [
            "[mpileup] 1 samples in 1 input files\n"
          ]
        }
      ]
    },
    {
      "cell_type": "code",
      "source": [
        "!wget https://downloads.sourceforge.net/project/varscan/VarScan.v2.3.9.jar"
      ],
      "metadata": {
        "colab": {
          "base_uri": "https://localhost:8080/"
        },
        "id": "1jSC8JKRZjy2",
        "outputId": "4249ef9b-030d-4a06-ab7b-0bf581661a39"
      },
      "execution_count": null,
      "outputs": [
        {
          "output_type": "stream",
          "name": "stdout",
          "text": [
            "--2022-11-11 14:18:17--  https://downloads.sourceforge.net/project/varscan/VarScan.v2.3.9.jar\n",
            "Resolving downloads.sourceforge.net (downloads.sourceforge.net)... 204.68.111.105\n",
            "Connecting to downloads.sourceforge.net (downloads.sourceforge.net)|204.68.111.105|:443... connected.\n",
            "HTTP request sent, awaiting response... 302 Found\n",
            "Location: https://gigenet.dl.sourceforge.net/project/varscan/VarScan.v2.3.9.jar [following]\n",
            "--2022-11-11 14:18:17--  https://gigenet.dl.sourceforge.net/project/varscan/VarScan.v2.3.9.jar\n",
            "Resolving gigenet.dl.sourceforge.net (gigenet.dl.sourceforge.net)... 69.65.16.142\n",
            "Connecting to gigenet.dl.sourceforge.net (gigenet.dl.sourceforge.net)|69.65.16.142|:443... connected.\n",
            "HTTP request sent, awaiting response... 200 OK\n",
            "Length: 111413 (109K) [application/java-archive]\n",
            "Saving to: ‘VarScan.v2.3.9.jar’\n",
            "\n",
            "VarScan.v2.3.9.jar  100%[===================>] 108.80K   546KB/s    in 0.2s    \n",
            "\n",
            "2022-11-11 14:18:17 (546 KB/s) - ‘VarScan.v2.3.9.jar’ saved [111413/111413]\n",
            "\n"
          ]
        }
      ]
    },
    {
      "cell_type": "code",
      "source": [
        "!java -jar VarScan.v2.3.9.jar"
      ],
      "metadata": {
        "colab": {
          "base_uri": "https://localhost:8080/"
        },
        "id": "tR7fJgZbZyL3",
        "outputId": "2f83eeda-6774-4a55-eb6f-f931ef9baa4f"
      },
      "execution_count": null,
      "outputs": [
        {
          "output_type": "stream",
          "name": "stdout",
          "text": [
            "VarScan v2.3\n",
            "\n",
            "USAGE: java -jar VarScan.jar [COMMAND] [OPTIONS] \n",
            "\n",
            "COMMANDS:\n",
            "\tpileup2snp\t\tIdentify SNPs from a pileup file\n",
            "\tpileup2indel\t\tIdentify indels a pileup file\n",
            "\tpileup2cns\t\tCall consensus and variants from a pileup file\n",
            "\tmpileup2snp\t\tIdentify SNPs from an mpileup file\n",
            "\tmpileup2indel\t\tIdentify indels an mpileup file\n",
            "\tmpileup2cns\t\tCall consensus and variants from an mpileup file\n",
            "\n",
            "\tsomatic\t\t\tCall germline/somatic variants from tumor-normal pileups\n",
            "\tcopynumber\t\t\tDetermine relative tumor copy number from tumor-normal pileups\n",
            "\treadcounts\t\tObtain read counts for a list of variants from a pileup file\n",
            "\n",
            "\tfilter\t\t\tFilter SNPs by coverage, frequency, p-value, etc.\n",
            "\tsomaticFilter\t\tFilter somatic variants for clusters/indels\n",
            "\tfpfilter\t\tApply the false-positive filter\n",
            "\n",
            "\tprocessSomatic\t\tIsolate Germline/LOH/Somatic calls from output\n",
            "\tcopyCaller\t\tGC-adjust and process copy number changes from VarScan copynumber output\n",
            "\tcompare\t\t\tCompare two lists of positions/variants\n",
            "\tlimit\t\t\tRestrict pileup/snps/indels to ROI positions\n",
            "\n",
            "\n"
          ]
        }
      ]
    },
    {
      "cell_type": "code",
      "source": [
        "!java -jar VarScan.v2.3.9.jar  mpileup2snp my.mpileup --min-var-freq 0.95 --variants --output-vcf 1 > VarScan_results_1.vcf"
      ],
      "metadata": {
        "colab": {
          "base_uri": "https://localhost:8080/"
        },
        "id": "4TRDE8kzZyQE",
        "outputId": "4a96bfea-a8d2-403c-e3c3-264c5aaea34b"
      },
      "execution_count": null,
      "outputs": [
        {
          "output_type": "stream",
          "name": "stdout",
          "text": [
            "Only SNPs will be reported\n",
            "Warning: No p-value threshold provided, so p-values will not be calculated\n",
            "Min coverage:\t8\n",
            "Min reads2:\t2\n",
            "Min var freq:\t0.95\n",
            "Min avg qual:\t15\n",
            "P-value thresh:\t0.01\n",
            "Reading input from my.mpileup\n",
            "1665 bases in pileup file\n",
            "5 variant positions (5 SNP, 0 indel)\n",
            "0 were failed by the strand-filter\n",
            "5 variant positions reported (5 SNP, 0 indel)\n"
          ]
        }
      ]
    },
    {
      "cell_type": "markdown",
      "source": [
        "5 variants were reported."
      ],
      "metadata": {
        "id": "qy1Lg-hnajSq"
      }
    },
    {
      "cell_type": "code",
      "source": [
        "!cat VarScan_results_1.vcf | awk 'NR>24 {print $1, $2, $4, $5}'"
      ],
      "metadata": {
        "colab": {
          "base_uri": "https://localhost:8080/"
        },
        "id": "EfsbNVsPZyS_",
        "outputId": "5efe4275-23dd-4dc8-96d3-7f96aad45e5b"
      },
      "execution_count": null,
      "outputs": [
        {
          "output_type": "stream",
          "name": "stdout",
          "text": [
            "KF848938.1 72 A G\n",
            "KF848938.1 117 C T\n",
            "KF848938.1 774 T C\n",
            "KF848938.1 999 C T\n",
            "KF848938.1 1260 A C\n"
          ]
        }
      ]
    },
    {
      "cell_type": "markdown",
      "source": [
        "We use a .gff3 file, corresponding to the reference sequence, to observe amino acid annotattation in IGV."
      ],
      "metadata": {
        "id": "csrC_xaMhYXn"
      }
    },
    {
      "cell_type": "markdown",
      "source": [
        "![image.png](data:image/png;base64,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)"
      ],
      "metadata": {
        "id": "ZAn520xngiRt"
      }
    },
    {
      "cell_type": "markdown",
      "source": [
        "**72**: in the reference we have amino T = Thr = ACA, but mutated is ACG = still Thr, so nothing changed.\n",
        "\n",
        "![image.png](data:image/png;base64,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)"
      ],
      "metadata": {
        "id": "el-_V4iHfmIB"
      }
    },
    {
      "cell_type": "markdown",
      "source": [
        "**117**: in the reference sequence there is A = Ala = GCC, but in the mutation there is GCT = GCU = Ala still, so nothing new.\n",
        "\n",
        "![image.png](data:image/png;base64,iVBORw0KGgoAAAANSUhEUgAAAaEAAALDCAYAAAC8fL8OAAAAAXNSR0IArs4c6QAAAARnQU1BAACxjwv8YQUAAAAJcEhZcwAADsMAAA7DAcdvqGQAABf9SURBVHhe7d17zFx1ncfx3/QGyJ1SbtItly1yKSBEs4rRSBRW+QMR6ZbCqoG4NRj/UFfj6q4JxkQlePkDEXEhmGW1IGS3RUFgNVY0SyFa1ICrtAhFwHBRCliwp5dnO4fz2Gmhz1Oonc+ZeV4vMpkzF9rp9Dl99/t7Tud0qqoaKQBs1bRp05qtUjb+mdlsbW5bntOr9/lLliwpH/7wh8uvfvWrMmfOnPK1r32tHH/88c2jmz/3zjvvLBdccEG5++67y3HHHVcuueSScuKJJzaPDh4RAmi5lxq4QTKpuQaAvhMhAGJECIAY3xMCIMYkBECMCAEQI0IAxIgQADEiBECMCAEQI0IAxIgQADEiBECMCAEQI0IAxIgQADEiBECMCAEQI0IAxGxXhNauXVtOPfXUzc5/3musx2+44Ybymte8puyxxx7lmGOOKQsXLmweeXHdH2NrPw8Ag+lln9Ru2bJl5aMf/Wj5yU9+Ut/e+OPU16PGenzJkiV1nLZ0yy23lJNPPrm5tbnRAG358wAwuF72JPS6172urFmzprn1QmM9fumll9bXCxYsKH/4wx/K/Pnz69tf/epX6+uxdJ9z8MEH15fRH2fU6LT0la98pcycObMceOCB5bLLLmseBaBtXvYkNHfu3HL55ZeXAw44oL695YQy1uOHHHJIeeSRR8oDDzxQDjrooPLwww+XQw89tLzyla8s999/f/OszW1tKe76668vp59+er29tecsXry4vP3tb29uAdAWL3sSuu6668o+++zT3HqhsR5/4okn6usZM2bU16Ohevzxx+vrsbzvfe+rp6fzzjuvvn3xxRfX173OP//8+ud473vfW9++6KKL6msA2uVlT0KjxvtezYs9vuuuu9YHLfz5z38ukyZNqre79+20007lmWeeaZ61udEfZ/ny5WXWrFnl3nvvLXPmzCl77bVXeeyxx+rHtnzOihUrytFHH1323nvv8uijj9aPAdAekUO099133/p6NAyjERm9fyzdo+m6pkyZstl1ry1DNnny5GYLgDaJROiEE06orz/5yU/Wwfjc5z5X337ta19bX4+l+9ynnnqqfOELX6hvdyedLX3+858vTz/9dPnSl75U336x5wCQF1mOu+mmm8oZZ5zR3Nrk1ltvLW9+85ubW5sb/XG2dOONN5ZTTjml3t7ac773ve+Vt7zlLc0tANoiMgmddtpp5aqrriqzZ88uO++8czn22GPro9y2FqBeX/ziF+vDs6dPn14uueSSvwSoV/ew7O4h2vvtt199hJ4AAbTTdk9CbTLeVAZAu0QmIQDoEiEAYoZqOQ6AwWISAiBGhACIESEAYloVoa39Y1PgefYRho1JCIAYEQIgRoQAiBEhAGJECIAYEQIgRoQAiBEhAGJECIAYEQIgRoQAiBEhAGKc1A6AGJMQADGdjReTEAARluMAiLEcB0CMCAEQI0IAxIgQADEiBECMCAEQI0IAxIgQADEiBECMCAEQI0IAxIgQADEiBEBM58ILL/Qp2gBEmIQAiOksWLDAJARAhEkIgBgRAiCms3TpUstxAER0qqoSIQAiLMcBECNCAMRYjgNaa9q0m5ut9qmqtzVbbA+TEAAxIgRAjAgBECNCAMSIEAAxIgRAjAgBECNCAMSIEAAxIgRAjAgBECNCAMSIEAAxIgRAjAgBECNCAMSIEAAxIgRAjAgBECNCAMSIEAAxIgRAjAgBECNCAMSIEAAxIgRAjAgBECNCAMSIEAAxIgRAjAgBECNCAMR0lixZMtJsA0BfdVavXi1CAESIENBau5ZXNFvts7o822yxPXxPCIAYEQIgRoQAiBEhAGJECIAYEQIgRoQAiBEhAGJECIAYEQIgRoQAiBEhAGJECIAYEQIgRoQAiBEhAGJECIAYEQIgxum9AYgxCQEQ01m1apVJCICITlVVIgRAhOU4AGI6S5cuNQkBENFZsGCBCAEQYTkOgBgHJgAQYxICIEaEAIgRIQBiHB0HQIxJCIAY/1gVgBiHaAMQYzkOgBgRAiBGhACIESEAYkQIgBgRAiBGhACIESEAYkQIgBgRAiCms2jRom3+2J7TTjut2QKA7feSI3TTTTc1t9pHJAEGi+U4AGKGchJq+2v0Hm4fE+9fh6/D7TMo+3LbiVCfeQ+3n/dw+w3Kezh12rT6uo3WVpWvw5ep97VZjgMgRoQAiBEhAGJECIAYEQIgRoQAiBEhAGJECIAYEQIgRoQAiBEhAGJECIAYEQIgRoQAiBEhAGJECIAYEQIgRoQAiBEhAGJECIAYEQIgRoQAiBEhAGJECIAYEQIgRoQAiBEhAGJECIAYEQIgRoQAiBEhAGJECIAYEQIgRoQAiBEhAGJECIAYEQIgRoQAiBEhAGJECIAYEQIgRoQAiBEhAGI6F1544UizDQB91amqSoQAiLAcB0BMZ+PFJARAhEkIgBgRAiCmc/HFF1uOAyCic+edd4oQABEiBAylIy+4oNka368vu6zZot98TwiAGBECIMZyHDAh9C7PWX5rD5MQADEiBECMCAEQI0IAxIgQADEiBECMCAEQI0IAxIgQADE+MQGAGJMQADEiBEBMp6oqy3EARJiEAIgRIQBiHB0HQIxJCIAYkxAwlHrPpDoeZ1rNMQkBECNCAMRYjgMmhN7lOctv7WESAiBGhACIESEAYkQIgBgRAiBGhACIESEAYkQIgBgRAiDGJyYAEGMSAiBGhACI6VRVZTkOgAiTEAAxIgRAjKPjAIgxCQEQYxIChlLvmVTH40yrOSYhAGJECIAYy3HAhNC7PGf5rT1MQgDEiBAAMSIEQIwIARAjQgDEiBAAMSIEQIwIARAjQgDE+MQEAGJMQgDEiBAAMZ2qqizHARBhEgIgRoQAiHF0HAAxJiEAYkxCwFDqPZPqeJxpNcckBECMCAEQYzkOmBB6l+csv7WHSQiAGBECIEaEAIgRIQBiRAiAGBECIEaEAIgRIQBiRAiAGJ+YAECMSQiAGBECIKZTVZXlOAAiTEIAxIgQADGOjgMgxiQEQIxJCBhKvWdSHY8zreaYhACIESEAYizHARNC7/Kc5bf2MAkBECNCAMSIEAAxIgRAjAgBECNCAMSIEAAxIgRAjAgBEOMTEwCIMQkBECNCAMR0qqqyHAdAhEkIgBgRAiDG0XEAxJiEAIgxCQFDqfdMquNxptUckxAAMSIEQIzlOGBC6F2es/zWHiYhAGJECIAYEQIgRoQAiBEhAGJECIAYEQIgRoQAiBEhAGJ8YgIAMSYhAGJECICYTlVVluMAiDAJARAjQgDEODoOgBiTEAAxJiFgKPWeSXU8zrSaYxICIEaEAIixHAdMCL3Lc5bf2sMkBECMCAEQI0IAxIgQADEiBECMCAEQI0IAxIgQADEiBECMT0wAIMYkBECMCAEQ06mqynIcABEmIQBiRAiAGEfHARBjEgIgxiQEDKXeM6mOx5lWc0xCAMSIEAAxluOACaF3ec7yW3uYhACIESEAYkQIgBgRAiBGhACIESEAYkQIgBgRAiBGhACI8YkJAMSYhACIESEAYjpVVVmOAyDCJARAjAgBEOPoOABiTEIAxJiEgKHUeybV8TjTao5JCIAYEQIgxnIcMCH0Ls9ZfmsPkxAAMSIEQIwIARAjQgDEiBAAMSIEQIwIARAjQgDEiBAAMT4xAYAYkxAAMSIEQEynqirLcQBEmIQAiBEhAGIcHQdAjEkIgBiTEDCUes+kOh5nWs0xCQEQI0IAxFiOAyaE3uU5y2/tYRICIEaEAIgRIQBiRAiAGBECIEaEAIgRIQBiRAiAGBECIMYnJgAQYxICIEaEAIjpVFVlOQ6ACJMQADEiBECMo+MAiDEJARBjEgKGUu+ZVMfjTKs5JiEAYkQIgBjLccCE0Ls8Z/mtPUxCAMSIEAAxIgRAjAgBECNCAMSIEAAxIgRAjAgBECNCAMT4xAQAYkxCAMSIEAAxnaqqLMcBEGESAiBGhACIcXQcADEmIQBiTELAUOo9k+p4nGk1xyQEQIwIARBjOQ6YEHqX5yy/tYdJCIAYEQIgRoQAiBEhAGJECIAYEQIgRoQAiBEhAGJECIAYn5gAQIxJCIAYEQIgplNVleU4ACJMQgDEiBAAMY6OAyDGJARAjEkIGEq9Z1IdjzOt5piEAIgRIQBiLMcBE0Lv8pzlt/YwCQEQI0IAxIgQADEiBECMCAEQI0IAxIgQADEiBECMCAEQ4xMTAIgxCQEQI0IAxHSqqrIcB0CESQiAGBECIMbRcQDEmIQAiDEJAUOp90yq43Gm1RyTEAAxIgRAjOU4YELoXZ6z/NYeJiEAYkQIgBgRAiBGhACIESEAYkQIgBgRAiBGhACIESEAYnxiAgAxJiEAYkQIgJhOVVWW4wCIMAkBECNCAMQ4Og6AGJMQADEmIWAo9Z5JdTzOtJpjEgIgRoQAiLEcB0wIvctzlt/awyQEQIwIARAjQgDEiBAAMSIEQIwIARAjQgDEiBAAMSIEQIxPTAAgxiQEQIwIARDTqarKchwAESYhAGJECIAYR8cBEGMSAiDGJAQMpd4zqY7HmVZzTEIAxIgQADGW44AJoXd5zvJbe5iEAIgRIQBiRAiAGBECIEaEAIgRIQBiRAiAGBECIEaEAIjxiQkAxJiEAIgRIQBiOlVVWY4DIMIkBECMCAEQ4+g4AGJMQgDEmISAodR7JtXxONNqjkkIgBgRAiDGchwwIfQuz1l+aw+TEAAxIgRAjAgBECNCAMSIEAAxIgRAjAgBECNCAMSIEAAxPjEBgBiTEAAxIgRATKeqKstxAESYhACIESEAYhwdB0CMSQiAGJMQMJR6z6Q6HmdazTEJARAjQgDEWI4DJoTe5TnLb+1hEgIgRoQAiBEhAGJECIAYEQIgRoQAiBEhAGJECIAYEQIgxicmABBjEgIgRoQAiOlUVWU5DoAIkxAAMSIEQIyj4wCIMQkBEGMSAoZS75lUx+NMqzkmIQBiRAiAGMtxwITQuzxn+a09TEIAxIgQADEiBECMCAEQI0IAxIgQADEiBECMCAEQI0IAxPjEBABiTEIAxIgQADGdqqosxwEQYRICIEaEAIhxdBwAMSYhAGJMQsBQ6j2T6nicaTXHJARAjAgBEGM5DpgQepfnLL+1h0kIgBgRAiBGhACIESEAYkQIgBgRAiBGhACIESEAYkQIgBifmABAjEkIgBgRAiCmU1WV5TgAIkxCAMSIEAAxjo4DIMYkBECMSQgYSr1nUh2PM63mmIQAiBEhAGIsxwETQu/ynOW39jAJARAjQgDEiBAAMSIEQIwIARAjQgDEiBAAMZ0FCxb4d0IARJiEAIhxZlUAYkxCAMSIEAAxIgRAjKPjAIgxCQEQ01m6dKlJCIAIh2gDEGM5DoAYEQIgRoQAiIlE6NlnS/nylyeVN75xSpk+fWrZZ5+p5U1vmlK+8Y1JZST8Haqp06Zt8yVtwW0LyrQrpv3l8v4fv795pD3a+hpf7Pdza5ekkQ3ry5N3XFlWXv62svwzh5Zff2LPcu+nZ5YHv35aeepn39z4hOwO0+Z9edQgvMa278s78j3s+4EJy5d3yumnTy733ddp7tncvHkbytVXr29u9d9L+UNnbVU1W/23Zv2aMvNbM8uqNauae0rZa6e9ykPnPlSmTcoHsqvNr3EQfp/XPv378vDV55TnHryzueeF9jzxnHLQvH9vbvVX2/flrkF4jW3fl3f0e9jXSWj16lLe8Y6t/2K6rr12UrnqKquE47n5oZs3+6Lt6t6++Xc3N7fyBuE1ttXI+rXl4f/8xzED1PXUsm/Vk1K/DcK+PCh/3rR5P+nHe9jXd//KKyeVFSue/8VMn9598evLE0+sLT/96boyZ86mgezSS3NfFN2/9fZeeo31WL8tXLGw2Spl/uHzm63N709r82sc6/dyrMf65elfXF+eW7m03u5MnlpmvPWT5W8/fnd51WceL3/zT98tU/eaWT/WtWrpFc1W/wzCvjwIr7GrzftJP97Dvi7HvfWtU8pttz3/C7r88vXlvPM21Ntdv/xlp7z73ZPLWWeNbLxsKEcd1beXNabeZZvUH0hbembtM+Xgbx5cnlv3XD22r5i3osy+dnZ5cs2TZZcpu9Rj/O5Td2+enTEIr7FX236fH7zi9LJ6+Q/q7X1P+dc6Qr2eW3lH+f31Hyh7HP+usvtxZ5ad9juyeaQ/BmFfHoTX2Pb9pB/vYV//CnDPPc//YrpOPXXzF3zccSPlF79YVz71qfWtCVBbLXpgUf1F23XmIWeWPabtUc469Kz6dvf+xQ8srreTBuE1ttmaR3/VbJWy14nnNFub7DLr78ph//yzsu/GOPU7QF2DsC8Pwmts+37Sj/ewrxF66qlmY6P998/9xg+6a++7ttkq5ezDz66vz519bn3dde1vNz2eMgivsc3WP/vHZquUybvv32yV8n8f3/VFL/02CPvyILzGtu8n/XgP+7ocN3Pm1PLoo89vP/LI2rLvvs9vt1nblmkef+7xMmvhrLJuw7rmnheaMmlKWTl/ZZmxy4zmnv4ahNe4pbb9Pi//7Oyy7qlH6u3DP3pXmTbjiHp7a8E56qLVzVZ/DMK+3PbXOAj7ST/ew75OQscfv6l3P/zh5j/12rWlfPCDk8spp2xag+SFrrv/ujG/aLu6j19///XNrf4bhNfYdrscdHyzVcqqO7/RbLXHIOzLbX+Ng7Cf9OM97GuE3vWuTd/U+shHJpcbb+yUP/2plJ//vFN/A+zrX59UfvSjTvnQhyY3z2JL16y4ptka2zX3bdvzdoRBeI1tt8er/6HZKuWPP/lKefyWT5e1T64sR372yTL73+4rM8/7r+bRjEHYl9v+GgdhP+nHe9jX5bjuKsdJJ02pj6oYyxVXrC/vec+mX3xSm5ZpVv5pZZl9zex6e9Zus8rys5fX26NGNv532MLDysOrHy6djf/de/a99fP6aRBe44tp3VGQIxvKyq/9fXn2gf9t7ti6VxxyUpl1wf80t/pjEPblNr/GQdlP+vEe9nUS6u7nixatr4+q2JpzztnQmgC1Te+/G5h7+Nxma5PuF+vcw56/v/tFvK1/0/prGoTXOBA6k8pB5/5H2WXW65o7XtyeJ5xdZp7/382t/hmEfbnNr3FQ9pN+vId9jVDXwQePlNtvX1cuvXR9eeMbR8ruu5dywAGlnHzySLnuuvXlqquyH6HRZr1H0owexrmleYfPa7YyY/wgvMZBMXWPA8us999cDpp3RdntiLeWKRtvd6bsVKbu/TdlzxPnl0M+8INy0NlXlkk77db8H/01CPtyW1/jIO0nO/o9dFI7AGL6PgkBwCgRAiCms2rVKstxAET4nhAAMZbjAIgRIQBiRAiAGBECIEaEAIjp7Lbbvzg6LuSMM+Y0WwyjRYvubrYYVvbh7WcSAiBGhACIESEAYkQIgJjIgQnPPPO5Zmtsu+/+iWZrOA3rNzWvvvrc+nrdug3lYx+7oTzxxOr69qjRx9/97m/W18NqIhyYMHv2jLJs2Ufq7RNO+GJZseKJenuiGPYDE0b31fFsz74cmYS6cem9jNra/QymkZGRMnfuq5tbDKMzzzy22epuH9dsMSy6cem9jNra/S+H5Th2mFtv/U15/esPKbNm7d3cw7Dphqc78XYv73znpiDBthIhdpgbbri7rF69psyff2JzD8PkiCNmlKOP3r/cdtt95cc//m2ZM+eAenkOXgoRYod59tm1ZfHiu8sxxxxQjj32wOZehsXo8tvixffUv89dvctzsC1EiB3q+9+/tzz22J/KvHknlE6n09zLMOgGZ8OGkfLd795TvvOde+ptS3K8VCLEDtX9XsG3v/3z+vtCJ510SHMvg+5Vr9qvHHXU/uX22x+o/5LRvSxdurKeervLdLCtRIgd7o47Vpb77vtDmTv3+DJlii+5YTC67PaGNxxa/5OL7mX0LxmOkuOl8CcCfbFw4bIyffqu5dRTX9XcwyAbDc3RR1/0l39SccwxF9X3WZLjpRAh+uI3v3msLFv2UDn9dJ86POiOPHK/+vKznz1Ufve7Vc29pTz44Kpy110P10fMdZfrYFuIEH1zzTV3lZ13ntrcYlBtOiruhZ8I4Sg5XioRom9+//uny5IlK5pbDKrR5bYbbrinvu61KUK+L8S2cVK7ICfEGm5Oajf87MPbzyQEQIwIARAjQgDEdKqq8j0hACJMQgDEiBAAMSIEQIwIARAjQgCElPL/c1pysUUBZnIAAAAASUVORK5CYII=)"
      ],
      "metadata": {
        "id": "DQ3t9I_sg8E3"
      }
    },
    {
      "cell_type": "markdown",
      "source": [
        "**774**: in the reference sequence we have F = Phe = UUU = TTT, but due to the mutation we now have TTC = UUC, which is still Phe, so this one does not affect the protein.\n",
        "\n",
        "![image.png](data:image/png;base64,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)"
      ],
      "metadata": {
        "id": "xHNE0ijEb46M"
      }
    },
    {
      "cell_type": "markdown",
      "source": [
        "**999**: in reference: GGC = G = Gly, mutated: GGT = GGU = Gly - same\n",
        "\n",
        "![image.png](data:image/png;base64,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)"
      ],
      "metadata": {
        "id": "3JtJtDRihrK0"
      }
    },
    {
      "cell_type": "markdown",
      "source": [
        "**1260**: in reference: CTA = L = Leu, mutated: CTC = CUC = Leu also\n",
        "\n",
        "![image.png](data:image/png;base64,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)"
      ],
      "metadata": {
        "id": "wpJChhuBiKSb"
      }
    },
    {
      "cell_type": "markdown",
      "source": [
        "Overall, it can be concluded, that none of the detected mutations actually affect the protein itself as all the aminos stay the same."
      ],
      "metadata": {
        "id": "HAckmr8CbjYn"
      }
    },
    {
      "cell_type": "markdown",
      "source": [
        "## 4. Look for rare variants with VarScan"
      ],
      "metadata": {
        "id": "b3PHO4mndwns"
      }
    },
    {
      "cell_type": "code",
      "source": [
        "!java -jar VarScan.v2.3.9.jar  mpileup2snp my.mpileup --min-var-freq 0.001 --variants --output-vcf 1 > VarScan_results_2.vcf"
      ],
      "metadata": {
        "id": "cdoyZ5zFd0Fo",
        "colab": {
          "base_uri": "https://localhost:8080/"
        },
        "outputId": "8652f80d-97d0-48d0-f741-c87962706e15"
      },
      "execution_count": null,
      "outputs": [
        {
          "output_type": "stream",
          "name": "stdout",
          "text": [
            "Only SNPs will be reported\n",
            "Warning: No p-value threshold provided, so p-values will not be calculated\n",
            "Min coverage:\t8\n",
            "Min reads2:\t2\n",
            "Min var freq:\t0.001\n",
            "Min avg qual:\t15\n",
            "P-value thresh:\t0.01\n",
            "Reading input from my.mpileup\n",
            "1665 bases in pileup file\n",
            "23 variant positions (21 SNP, 2 indel)\n",
            "0 were failed by the strand-filter\n",
            "21 variant positions reported (21 SNP, 0 indel)\n"
          ]
        }
      ]
    },
    {
      "cell_type": "markdown",
      "source": [
        "We now have 21 variants."
      ],
      "metadata": {
        "id": "GWxot2tDiy-P"
      }
    },
    {
      "cell_type": "code",
      "source": [
        "!cat VarScan_results_2.vcf | awk 'NR>24 {print $1, $2, $4, $5, $10}'"
      ],
      "metadata": {
        "colab": {
          "base_uri": "https://localhost:8080/"
        },
        "id": "Uy8lUj1virEw",
        "outputId": "ca0c76d0-d82e-4a36-fc49-b83544a1311f"
      },
      "execution_count": null,
      "outputs": [
        {
          "output_type": "stream",
          "name": "stdout",
          "text": [
            "KF848938.1 72 A G 1/1:255:16832:16794:6:16787:99.96%:0E0:35:36:4:2:10898:5889\n",
            "KF848938.1 117 C T 1/1:255:20768:20663:36:20625:99.82%:0E0:35:37:27:9:13462:7163\n",
            "KF848938.1 254 A G 0/1:20:35781:35626:35562:59:0.17%:8.5683E-3:36:36:23919:11643:37:22\n",
            "KF848938.1 276 A G 0/1:24:37022:36965:36892:64:0.17%:3.3004E-3:37:35:22579:14313:30:34\n",
            "KF848938.1 307 C T 0/1:255:37506:37386:37029:351:0.94%:6.9068E-66:36:35:22400:14629:184:167\n",
            "KF848938.1 340 T C 0/1:23:37973:37793:37723:64:0.17%:4.6441E-3:37:36:23413:14310:40:24\n",
            "KF848938.1 389 T C 0/1:40:31960:31763:31690:69:0.22%:9.0525E-5:37:36:16067:15623:44:25\n",
            "KF848938.1 691 A G 0/1:23:39503:39319:39245:67:0.17%:4.1867E-3:37:34:21313:17932:23:44\n",
            "KF848938.1 722 A G 0/1:36:38090:38036:37954:76:0.2%:2.353E-4:37:36:21003:16951:39:37\n",
            "KF848938.1 744 A G 0/1:23:38443:38380:38306:65:0.17%:5.0068E-3:37:33:20859:17447:35:30\n",
            "KF848938.1 774 T C 1/1:255:38397:38191:8:38177:99.96%:0E0:32:37:7:1:19806:18371\n",
            "KF848938.1 802 A G 0/1:59:44236:44106:44001:101:0.23%:1.2224E-6:37:35:20575:23426:32:69\n",
            "KF848938.1 859 A G 0/1:25:35895:35721:35655:63:0.18%:3.0291E-3:37:36:14499:21156:27:36\n",
            "KF848938.1 915 T C 0/1:30:37022:36921:36842:69:0.19%:8.2327E-4:35:34:18059:18783:37:32\n",
            "KF848938.1 999 C T 1/1:255:32561:32115:40:32070:99.86%:0E0:35:36:23:17:17184:14886\n",
            "KF848938.1 1043 A G 0/1:25:31638:31590:31529:58:0.18%:2.756E-3:35:33:17353:14176:19:39\n",
            "KF848938.1 1086 A G 0/1:29:25259:25258:25203:53:0.21%:1.0076E-3:36:35:12596:12607:21:32\n",
            "KF848938.1 1213 A G 0/1:34:25177:25093:25035:56:0.22%:3.7244E-4:37:36:8964:16071:24:32\n",
            "KF848938.1 1260 A C 1/1:255:23067:23033:2:23019:99.94%:0E0:32:37:0:2:9824:13195\n",
            "KF848938.1 1280 T C 0/1:20:23487:23462:23418:43:0.18%:9.2875E-3:37:35:11147:12271:24:19\n",
            "KF848938.1 1458 T C 0/1:255:27064:26929:26701:225:0.84%:3.4507E-41:37:35:6865:19836:80:145\n"
          ]
        }
      ]
    },
    {
      "cell_type": "code",
      "source": [
        "!cat VarScan_results_2.vcf | awk 'NR>24 {print $1, $2, $4, $5, $10}' > diff_roommate_ref_vcf.txt"
      ],
      "metadata": {
        "id": "xYH0dc23_HJb"
      },
      "execution_count": null,
      "outputs": []
    },
    {
      "cell_type": "markdown",
      "source": [
        "It can be seen that some frequences are extremely high (around 99%), while others are extremely low, less than 1%."
      ],
      "metadata": {
        "id": "81dRXXhgL3-F"
      }
    },
    {
      "cell_type": "markdown",
      "source": [
        "## 5. Inspect and align the control sample sequencing data"
      ],
      "metadata": {
        "id": "TTwtYj8xkNRa"
      }
    },
    {
      "cell_type": "code",
      "source": [
        "!wget ftp://ftp.sra.ebi.ac.uk/vol1/fastq/SRR170/008/SRR1705858/SRR1705858.fastq.gz \n",
        "!wget ftp://ftp.sra.ebi.ac.uk/vol1/fastq/SRR170/009/SRR1705859/SRR1705859.fastq.gz \n",
        "!wget ftp://ftp.sra.ebi.ac.uk/vol1/fastq/SRR170/000/SRR1705860/SRR1705860.fastq.gz "
      ],
      "metadata": {
        "id": "NjH1YrZ_jB98",
        "colab": {
          "base_uri": "https://localhost:8080/"
        },
        "outputId": "25ae5cca-0daf-4ed7-fc56-0bf9ab946ab1"
      },
      "execution_count": null,
      "outputs": [
        {
          "output_type": "stream",
          "name": "stdout",
          "text": [
            "--2022-11-11 14:18:59--  ftp://ftp.sra.ebi.ac.uk/vol1/fastq/SRR170/008/SRR1705858/SRR1705858.fastq.gz\n",
            "           => ‘SRR1705858.fastq.gz’\n",
            "Resolving ftp.sra.ebi.ac.uk (ftp.sra.ebi.ac.uk)... 193.62.193.138\n",
            "Connecting to ftp.sra.ebi.ac.uk (ftp.sra.ebi.ac.uk)|193.62.193.138|:21... connected.\n",
            "Logging in as anonymous ... Logged in!\n",
            "==> SYST ... done.    ==> PWD ... done.\n",
            "==> TYPE I ... done.  ==> CWD (1) /vol1/fastq/SRR170/008/SRR1705858 ... done.\n",
            "==> SIZE SRR1705858.fastq.gz ... 14782243\n",
            "==> PASV ... done.    ==> RETR SRR1705858.fastq.gz ... done.\n",
            "Length: 14782243 (14M) (unauthoritative)\n",
            "\n",
            "SRR1705858.fastq.gz 100%[===================>]  14.10M  8.35MB/s    in 1.7s    \n",
            "\n",
            "2022-11-11 14:19:02 (8.35 MB/s) - ‘SRR1705858.fastq.gz’ saved [14782243]\n",
            "\n",
            "--2022-11-11 14:19:03--  ftp://ftp.sra.ebi.ac.uk/vol1/fastq/SRR170/009/SRR1705859/SRR1705859.fastq.gz\n",
            "           => ‘SRR1705859.fastq.gz’\n",
            "Resolving ftp.sra.ebi.ac.uk (ftp.sra.ebi.ac.uk)... 193.62.193.138\n",
            "Connecting to ftp.sra.ebi.ac.uk (ftp.sra.ebi.ac.uk)|193.62.193.138|:21... connected.\n",
            "Logging in as anonymous ... Logged in!\n",
            "==> SYST ... done.    ==> PWD ... done.\n",
            "==> TYPE I ... done.  ==> CWD (1) /vol1/fastq/SRR170/009/SRR1705859 ... done.\n",
            "==> SIZE SRR1705859.fastq.gz ... 13581641\n",
            "==> PASV ... done.    ==> RETR SRR1705859.fastq.gz ... done.\n",
            "Length: 13581641 (13M) (unauthoritative)\n",
            "\n",
            "SRR1705859.fastq.gz 100%[===================>]  12.95M  2.29MB/s    in 6.1s    \n",
            "\n",
            "2022-11-11 14:19:11 (2.12 MB/s) - ‘SRR1705859.fastq.gz’ saved [13581641]\n",
            "\n",
            "--2022-11-11 14:19:11--  ftp://ftp.sra.ebi.ac.uk/vol1/fastq/SRR170/000/SRR1705860/SRR1705860.fastq.gz\n",
            "           => ‘SRR1705860.fastq.gz’\n",
            "Resolving ftp.sra.ebi.ac.uk (ftp.sra.ebi.ac.uk)... 193.62.193.138\n",
            "Connecting to ftp.sra.ebi.ac.uk (ftp.sra.ebi.ac.uk)|193.62.193.138|:21... connected.\n",
            "Logging in as anonymous ... Logged in!\n",
            "==> SYST ... done.    ==> PWD ... done.\n",
            "==> TYPE I ... done.  ==> CWD (1) /vol1/fastq/SRR170/000/SRR1705860 ... done.\n",
            "==> SIZE SRR1705860.fastq.gz ... 14372113\n",
            "==> PASV ... done.    ==> RETR SRR1705860.fastq.gz ... done.\n",
            "Length: 14372113 (14M) (unauthoritative)\n",
            "\n",
            "SRR1705860.fastq.gz 100%[===================>]  13.71M  1.12MB/s    in 13s     \n",
            "\n",
            "2022-11-11 14:19:25 (1.09 MB/s) - ‘SRR1705860.fastq.gz’ saved [14372113]\n",
            "\n"
          ]
        }
      ]
    },
    {
      "cell_type": "code",
      "source": [
        "# unziping\n",
        "!gzip -d /content/SRR1705858.fastq.gz  /content/SRR1705859.fastq.gz  /content/SRR1705860.fastq.gz "
      ],
      "metadata": {
        "id": "D4NX1fX4xy1x"
      },
      "execution_count": null,
      "outputs": []
    },
    {
      "cell_type": "code",
      "source": [
        "!head -20 SRR1705858.fastq"
      ],
      "metadata": {
        "colab": {
          "base_uri": "https://localhost:8080/"
        },
        "id": "JF0LhTfzrS9O",
        "outputId": "ba6a21e8-b650-4280-9892-5c1d5cddb7eb"
      },
      "execution_count": null,
      "outputs": [
        {
          "output_type": "stream",
          "name": "stdout",
          "text": [
            "@SRR1705858.1 1/1\n",
            "GTGCCCAAGGCACAGCGTTGCCGTGCTGTTGTCATTTCCAGGAAGTTTTTGAGCGAAAACCAGACATAGAATGTAGCTCAAAGCAATGATAGTCTTCATGGTTAATAG\n",
            "+\n",
            "????<<<?AB<BBB?BA,@>CC>6+@CEHHHEC9AEDGB?AC,AC8EGHFAEFGE=EEEHH@F@EE-C=FGBGG?AF?ABEHHHHFFFDGBGH.7CCB?.C.@FD@D7\n",
            "@SRR1705858.2 2/1\n",
            "TATTAACCATGAAGACTATCATTGCTTTGAGCTACATTCTATGTCTGGTTTTCGCTCAAAAACTTCCTGGAAATGACAACAGCACGGCAACGCTGTGCCTTGGGCACCATGCAGTGCCAAACGGAACAATAGTGAAAACAATCACGAATGA\n",
            "+\n",
            "AAAAABBBDEDDDDDEGGGGGGIIIIIIHIIIIIIIIIHIIIIIIIIIHHIIIHHHIHIIIIHIIIIIIIIIIIIIIIIIIIIIIHHHHHIHHHHHHHHHHHHHHHHHHHHHHGGGGGGGGGGGGGGGEGGGEGEGGGGGGGGGGGGGGGG\n",
            "@SRR1705858.3 3/1\n",
            "GGCACAGCGTTGCCGTGCTGTTGTCATTTCCAGGAAGTTTTTGAGCGAAAACCAGACATAGAATGTAGCTCAAAGCAATGATAGTCTTCATGGTTAATAG\n",
            "+\n",
            "???AABB?DDDDDDDDFEFFFFIFHIIIIFGHIHIIIGHIIIHDFGHHHHHHHIHFFHIHFIIHHIIIIIIIIIIHHHIIIHHHFCGHHHHHHHFFHHHF\n",
            "@SRR1705858.4 4/1\n",
            "TATTAACCATGAAGACTATCATTGCTTTGAGCTACATTCTATGTCTGGTTTTCGCTCAAAAACTTCCTGGAAATGACAACAGCACGGCAACGCTGTGCCTTGGGCACCATGCAGTGCCAAACGGAACAATAGTGAAAACAATCACGAATGA\n",
            "+\n",
            "?????BBBBDBDDDBBFFFFFFHCHHHHHFD=AEGEFHGHHHHHCAFDEF@FDHHHFDGHGHEFDGDGHFDFFBEGHHH?FBDFFD=DEHHHHHH5DDFFDHBFDFDFHFD=FDFFFFFDFFE:@D8BB?CE=CBCCEE?EEE=?AAA*3,\n",
            "@SRR1705858.5 5/1\n",
            "TATTAACCATGAAGACTATCATTGCTTTGAGCTACATTCTATGTCTGGTTTTCGCTCAAAAACTTCCTGGAAATGACAACAGCACGGCAACGCTGTGCCTTGGGCACCATGCAGTGCCAAACGGAACAATAGTGAAAACAATCACGAATGA\n",
            "+\n",
            "?????BB?BBDDDDDDFFFFFFHHHHHHHHHHHHHHHHHHHHGEHHHHFGHHHHHHHHHHHHHHHHHHHHHHHHHHHHHHHHHHHHHDEHFECDHHHHHHHFHHFHHHHHHHHFBFFFFFFFEEEEEEEEEEBBEEEEEEEEEBEEE?AE?\n"
          ]
        }
      ]
    },
    {
      "cell_type": "code",
      "source": [
        "!wc -l SRR1705858.fastq"
      ],
      "metadata": {
        "colab": {
          "base_uri": "https://localhost:8080/"
        },
        "id": "3kGwObf5vu0u",
        "outputId": "6e9015be-e7df-4de7-ceca-aab1eea44e4b"
      },
      "execution_count": null,
      "outputs": [
        {
          "output_type": "stream",
          "name": "stdout",
          "text": [
            "1026344 SRR1705858.fastq\n"
          ]
        }
      ]
    },
    {
      "cell_type": "code",
      "source": [
        "print(f\"There are {1026344/4} reads in the SRR1705858.fastq file\")"
      ],
      "metadata": {
        "colab": {
          "base_uri": "https://localhost:8080/"
        },
        "id": "gu7ExQccv6QQ",
        "outputId": "461f8527-3e01-4ab9-ce7f-bf5343c9f767"
      },
      "execution_count": null,
      "outputs": [
        {
          "output_type": "stream",
          "name": "stdout",
          "text": [
            "There are 256586.0 reads in the SRR1705858.fastq file\n"
          ]
        }
      ]
    },
    {
      "cell_type": "code",
      "source": [
        "!wc -l SRR1705859.fastq"
      ],
      "metadata": {
        "colab": {
          "base_uri": "https://localhost:8080/"
        },
        "id": "2YOVBPvgv1uJ",
        "outputId": "4325aa0e-b8bb-4e4f-d758-207dd67b390e"
      },
      "execution_count": null,
      "outputs": [
        {
          "output_type": "stream",
          "name": "stdout",
          "text": [
            "933308 SRR1705859.fastq\n"
          ]
        }
      ]
    },
    {
      "cell_type": "code",
      "source": [
        "print(f\"There are {933308/4} reads in the SRR1705859.fastq file\")"
      ],
      "metadata": {
        "colab": {
          "base_uri": "https://localhost:8080/"
        },
        "id": "9RsopOcHv9wd",
        "outputId": "01f439d8-fdda-45d7-82f3-9a93768beba1"
      },
      "execution_count": null,
      "outputs": [
        {
          "output_type": "stream",
          "name": "stdout",
          "text": [
            "There are 233327.0 reads in the SRR1705859.fastq file\n"
          ]
        }
      ]
    },
    {
      "cell_type": "code",
      "source": [
        "!wc -l SRR1705860.fastq"
      ],
      "metadata": {
        "colab": {
          "base_uri": "https://localhost:8080/"
        },
        "id": "HOvOYx-Wv3hi",
        "outputId": "9a56366b-0158-4c1d-856d-7a3b201711c4"
      },
      "execution_count": null,
      "outputs": [
        {
          "output_type": "stream",
          "name": "stdout",
          "text": [
            "999856 SRR1705860.fastq\n"
          ]
        }
      ]
    },
    {
      "cell_type": "code",
      "source": [
        "print(f\"There are {999856/4} reads in the SRR1705860.fastq file\")"
      ],
      "metadata": {
        "colab": {
          "base_uri": "https://localhost:8080/"
        },
        "id": "0TeZ9iJmv5Xf",
        "outputId": "0eaec0f0-a53a-4d58-d57a-018a6b086151"
      },
      "execution_count": null,
      "outputs": [
        {
          "output_type": "stream",
          "name": "stdout",
          "text": [
            "There are 249964.0 reads in the SRR1705860.fastq file\n"
          ]
        }
      ]
    },
    {
      "cell_type": "code",
      "source": [
        "with open(\"/content/KF848938.1.fasta\",\"r\") as f:\n",
        "    print(sum([len(line)-1 for line in f.readlines()[1:]]))"
      ],
      "metadata": {
        "colab": {
          "base_uri": "https://localhost:8080/"
        },
        "id": "xagfKnuYwCA9",
        "outputId": "9f0f44ce-e792-4746-98e6-082190a3ed1b"
      },
      "execution_count": null,
      "outputs": [
        {
          "output_type": "stream",
          "name": "stdout",
          "text": [
            "1665\n"
          ]
        }
      ]
    },
    {
      "cell_type": "markdown",
      "source": [
        "So if we have 1665 positions in total and if we assume that the reads will distribute equally along the reference genome, we will have roughly 150 reads per position."
      ],
      "metadata": {
        "id": "kRL6t9xI0sm-"
      }
    },
    {
      "cell_type": "markdown",
      "source": [
        "#### Alingnment of the _58 file:"
      ],
      "metadata": {
        "id": "-oAb0Aun1vXs"
      }
    },
    {
      "cell_type": "code",
      "source": [
        "!bwa mem KF848938.1.fasta SRR1705858.fastq > res58.sam \n",
        "!samtools view -S -b res58.sam > res58.bam\n",
        "!samtools flagstat res58.bam\n",
        "!samtools sort res58.bam > res58.sorted.bam\n",
        "!samtools index res58.sorted.bam"
      ],
      "metadata": {
        "colab": {
          "base_uri": "https://localhost:8080/"
        },
        "id": "Wmm2puA11sqW",
        "outputId": "832f74cf-8c35-49c1-935a-951ef96f5d95"
      },
      "execution_count": null,
      "outputs": [
        {
          "output_type": "stream",
          "name": "stdout",
          "text": [
            "[M::bwa_idx_load_from_disk] read 0 ALT contigs\n",
            "[M::process] read 67448 sequences (10000210 bp)...\n",
            "[M::process] read 67230 sequences (10000094 bp)...\n",
            "[M::mem_process_seqs] Processed 67448 reads in 1.707 CPU sec, 1.645 real sec\n",
            "[M::process] read 67100 sequences (10000113 bp)...\n",
            "[M::mem_process_seqs] Processed 67230 reads in 1.970 CPU sec, 1.830 real sec\n",
            "[M::process] read 54808 sequences (8118313 bp)...\n",
            "[M::mem_process_seqs] Processed 67100 reads in 1.932 CPU sec, 1.797 real sec\n",
            "[M::mem_process_seqs] Processed 54808 reads in 1.597 CPU sec, 1.535 real sec\n",
            "[main] Version: 0.7.17-r1188\n",
            "[main] CMD: bwa mem KF848938.1.fasta SRR1705858.fastq\n",
            "[main] Real time: 7.344 sec; CPU: 7.324 sec\n",
            "256744 + 0 in total (QC-passed reads + QC-failed reads)\n",
            "0 + 0 secondary\n",
            "158 + 0 supplementary\n",
            "0 + 0 duplicates\n",
            "256658 + 0 mapped (99.97% : N/A)\n",
            "0 + 0 paired in sequencing\n",
            "0 + 0 read1\n",
            "0 + 0 read2\n",
            "0 + 0 properly paired (N/A : N/A)\n",
            "0 + 0 with itself and mate mapped\n",
            "0 + 0 singletons (N/A : N/A)\n",
            "0 + 0 with mate mapped to a different chr\n",
            "0 + 0 with mate mapped to a different chr (mapQ>=5)\n"
          ]
        }
      ]
    },
    {
      "cell_type": "markdown",
      "source": [
        "#### Alingnment of the _59 file:"
      ],
      "metadata": {
        "id": "upsTh29c13be"
      }
    },
    {
      "cell_type": "code",
      "source": [
        "!bwa mem KF848938.1.fasta SRR1705859.fastq > res59.sam \n",
        "!samtools view -S -b res59.sam > res59.bam\n",
        "!samtools flagstat res59.bam\n",
        "!samtools sort res59.bam > res59.sorted.bam\n",
        "!samtools index res59.sorted.bam"
      ],
      "metadata": {
        "colab": {
          "base_uri": "https://localhost:8080/"
        },
        "id": "VCrRoDPw14ee",
        "outputId": "85282ed1-4cc8-4be0-8bcd-812eb49eb4d5"
      },
      "execution_count": null,
      "outputs": [
        {
          "output_type": "stream",
          "name": "stdout",
          "text": [
            "[M::bwa_idx_load_from_disk] read 0 ALT contigs\n",
            "[M::process] read 67476 sequences (10000274 bp)...\n",
            "[M::process] read 67236 sequences (10000039 bp)...\n",
            "[M::mem_process_seqs] Processed 67476 reads in 1.689 CPU sec, 1.627 real sec\n",
            "[M::process] read 67216 sequences (10000283 bp)...\n",
            "[M::mem_process_seqs] Processed 67236 reads in 1.963 CPU sec, 1.799 real sec\n",
            "[M::process] read 31399 sequences (4635971 bp)...\n",
            "[M::mem_process_seqs] Processed 67216 reads in 1.849 CPU sec, 1.722 real sec\n",
            "[M::mem_process_seqs] Processed 31399 reads in 1.057 CPU sec, 0.969 real sec\n",
            "[main] Version: 0.7.17-r1188\n",
            "[main] CMD: bwa mem KF848938.1.fasta SRR1705859.fastq\n",
            "[main] Real time: 6.582 sec; CPU: 6.666 sec\n",
            "233451 + 0 in total (QC-passed reads + QC-failed reads)\n",
            "0 + 0 secondary\n",
            "124 + 0 supplementary\n",
            "0 + 0 duplicates\n",
            "233375 + 0 mapped (99.97% : N/A)\n",
            "0 + 0 paired in sequencing\n",
            "0 + 0 read1\n",
            "0 + 0 read2\n",
            "0 + 0 properly paired (N/A : N/A)\n",
            "0 + 0 with itself and mate mapped\n",
            "0 + 0 singletons (N/A : N/A)\n",
            "0 + 0 with mate mapped to a different chr\n",
            "0 + 0 with mate mapped to a different chr (mapQ>=5)\n"
          ]
        }
      ]
    },
    {
      "cell_type": "markdown",
      "source": [
        "#### Alingnment of the _60 file:"
      ],
      "metadata": {
        "id": "_B47AGUq15fQ"
      }
    },
    {
      "cell_type": "code",
      "source": [
        "!bwa mem KF848938.1.fasta SRR1705860.fastq > res60.sam \n",
        "!samtools view -S -b res60.sam > res60.bam\n",
        "!samtools flagstat res60.bam\n",
        "!samtools sort res60.bam > res60.sorted.bam\n",
        "!samtools index res60.sorted.bam"
      ],
      "metadata": {
        "colab": {
          "base_uri": "https://localhost:8080/"
        },
        "id": "eNK_It3Z17CB",
        "outputId": "fb0d4f88-92ff-438b-8a4e-5b6fdebdf171"
      },
      "execution_count": null,
      "outputs": [
        {
          "output_type": "stream",
          "name": "stdout",
          "text": [
            "[M::bwa_idx_load_from_disk] read 0 ALT contigs\n",
            "[M::process] read 67356 sequences (10000126 bp)...\n",
            "[M::process] read 67208 sequences (10000122 bp)...\n",
            "[M::mem_process_seqs] Processed 67356 reads in 1.713 CPU sec, 1.651 real sec\n",
            "[M::process] read 67010 sequences (10000072 bp)...\n",
            "[M::mem_process_seqs] Processed 67208 reads in 1.932 CPU sec, 1.784 real sec\n",
            "[M::process] read 48390 sequences (7170166 bp)...\n",
            "[M::mem_process_seqs] Processed 67010 reads in 1.868 CPU sec, 1.728 real sec\n",
            "[M::mem_process_seqs] Processed 48390 reads in 1.460 CPU sec, 1.379 real sec\n",
            "[main] Version: 0.7.17-r1188\n",
            "[main] CMD: bwa mem KF848938.1.fasta SRR1705860.fastq\n",
            "[main] Real time: 6.891 sec; CPU: 7.092 sec\n",
            "250184 + 0 in total (QC-passed reads + QC-failed reads)\n",
            "0 + 0 secondary\n",
            "220 + 0 supplementary\n",
            "0 + 0 duplicates\n",
            "250108 + 0 mapped (99.97% : N/A)\n",
            "0 + 0 paired in sequencing\n",
            "0 + 0 read1\n",
            "0 + 0 read2\n",
            "0 + 0 properly paired (N/A : N/A)\n",
            "0 + 0 with itself and mate mapped\n",
            "0 + 0 singletons (N/A : N/A)\n",
            "0 + 0 with mate mapped to a different chr\n",
            "0 + 0 with mate mapped to a different chr (mapQ>=5)\n"
          ]
        }
      ]
    },
    {
      "cell_type": "markdown",
      "source": [
        "## 6. Use VarScan to look for rare variants in the reference files."
      ],
      "metadata": {
        "id": "wqRpHxS23Qvp"
      }
    },
    {
      "cell_type": "markdown",
      "source": [
        "For the _58 file:"
      ],
      "metadata": {
        "id": "rF3mWH3D5Ejm"
      }
    },
    {
      "cell_type": "code",
      "source": [
        "!samtools mpileup -f /content/KF848938.1.fasta res58.sorted.bam -d 256700 >  my.mpileup\n",
        "!java -jar VarScan.v2.3.9.jar  mpileup2snp my.mpileup --min-var-freq 0.001 --variants --output-vcf 1 > VarScan_results_58.vcf"
      ],
      "metadata": {
        "colab": {
          "base_uri": "https://localhost:8080/"
        },
        "id": "OcNs6veh3QCa",
        "outputId": "9bf175cf-968a-497f-d05b-472443bb1fc7"
      },
      "execution_count": null,
      "outputs": [
        {
          "output_type": "stream",
          "name": "stdout",
          "text": [
            "[mpileup] 1 samples in 1 input files\n",
            "Only SNPs will be reported\n",
            "Warning: No p-value threshold provided, so p-values will not be calculated\n",
            "Min coverage:\t8\n",
            "Min reads2:\t2\n",
            "Min var freq:\t0.001\n",
            "Min avg qual:\t15\n",
            "P-value thresh:\t0.01\n",
            "Reading input from my.mpileup\n",
            "1665 bases in pileup file\n",
            "58 variant positions (58 SNP, 0 indel)\n",
            "1 were failed by the strand-filter\n",
            "57 variant positions reported (57 SNP, 0 indel)\n"
          ]
        }
      ]
    },
    {
      "cell_type": "code",
      "source": [
        "!cat VarScan_results_58.vcf | awk 'NR>24 {print $1, $2, $4, $5, $10}' > diff_58_ref_vcf.txt"
      ],
      "metadata": {
        "id": "KJs7Vmlu7a3g"
      },
      "execution_count": null,
      "outputs": []
    },
    {
      "cell_type": "markdown",
      "source": [
        "For the _59 file:"
      ],
      "metadata": {
        "id": "QsLiNvai5H0g"
      }
    },
    {
      "cell_type": "code",
      "source": [
        "!samtools mpileup -f /content/KF848938.1.fasta res59.sorted.bam -d 256700 >  my.mpileup\n",
        "!java -jar VarScan.v2.3.9.jar  mpileup2snp my.mpileup --min-var-freq 0.001 --variants --output-vcf 1 > VarScan_results_59.vcf\n"
      ],
      "metadata": {
        "colab": {
          "base_uri": "https://localhost:8080/"
        },
        "id": "H48q0ZdF3HYb",
        "outputId": "35139dec-37d8-4b9b-8599-8618b145d82f"
      },
      "execution_count": null,
      "outputs": [
        {
          "output_type": "stream",
          "name": "stdout",
          "text": [
            "[mpileup] 1 samples in 1 input files\n",
            "Only SNPs will be reported\n",
            "Warning: No p-value threshold provided, so p-values will not be calculated\n",
            "Min coverage:\t8\n",
            "Min reads2:\t2\n",
            "Min var freq:\t0.001\n",
            "Min avg qual:\t15\n",
            "P-value thresh:\t0.01\n",
            "Reading input from my.mpileup\n",
            "1665 bases in pileup file\n",
            "54 variant positions (54 SNP, 0 indel)\n",
            "2 were failed by the strand-filter\n",
            "52 variant positions reported (52 SNP, 0 indel)\n"
          ]
        }
      ]
    },
    {
      "cell_type": "code",
      "source": [
        "!cat VarScan_results_59.vcf | awk 'NR>24 {print $1, $2, $4, $5, $10}' > diff_59_ref_vcf.txt"
      ],
      "metadata": {
        "id": "641HAaHp7zc6"
      },
      "execution_count": null,
      "outputs": []
    },
    {
      "cell_type": "markdown",
      "source": [
        "For the _60 file:"
      ],
      "metadata": {
        "id": "nHGg32e15LU-"
      }
    },
    {
      "cell_type": "code",
      "source": [
        "!samtools mpileup -f /content/KF848938.1.fasta res60.sorted.bam -d 256700 >  my.mpileup\n",
        "!java -jar VarScan.v2.3.9.jar  mpileup2snp my.mpileup --min-var-freq 0.001 --variants --output-vcf 1 > VarScan_results_60.vcf"
      ],
      "metadata": {
        "colab": {
          "base_uri": "https://localhost:8080/"
        },
        "id": "karqW_Vx5OEH",
        "outputId": "27e31796-5dec-4c45-ddee-991559ef6a6f"
      },
      "execution_count": null,
      "outputs": [
        {
          "output_type": "stream",
          "name": "stdout",
          "text": [
            "[mpileup] 1 samples in 1 input files\n",
            "Only SNPs will be reported\n",
            "Warning: No p-value threshold provided, so p-values will not be calculated\n",
            "Min coverage:\t8\n",
            "Min reads2:\t2\n",
            "Min var freq:\t0.001\n",
            "Min avg qual:\t15\n",
            "P-value thresh:\t0.01\n",
            "Reading input from my.mpileup\n",
            "1665 bases in pileup file\n",
            "61 variant positions (61 SNP, 0 indel)\n",
            "0 were failed by the strand-filter\n",
            "61 variant positions reported (61 SNP, 0 indel)\n"
          ]
        }
      ]
    },
    {
      "cell_type": "code",
      "source": [
        "!cat VarScan_results_60.vcf | awk 'NR>24 {print $1, $2, $4, $5, $10}' > diff_60_ref_vcf.txt"
      ],
      "metadata": {
        "id": "k0LfGVDJ74b_"
      },
      "execution_count": null,
      "outputs": []
    },
    {
      "cell_type": "markdown",
      "source": [
        "## 7. Compare the control results to your roommate’s results"
      ],
      "metadata": {
        "id": "tp24rvCS3fJV"
      }
    },
    {
      "cell_type": "code",
      "source": [
        "import pandas as pd"
      ],
      "metadata": {
        "id": "oCNKK3VkAy_D"
      },
      "execution_count": null,
      "outputs": []
    },
    {
      "cell_type": "markdown",
      "source": [
        "#### Ctrl _58 data:"
      ],
      "metadata": {
        "id": "vLMigr3hpza9"
      }
    },
    {
      "cell_type": "code",
      "source": [
        "df58 = pd.read_csv(\"diff_58_ref_vcf.txt\", sep=\" \", header=None, names=[\"Reference\", \"Position\", \"Before\", \"After\", \"Freq\"])\n",
        "df58[\"Freq\"] = df58[\"Freq\"].apply(lambda x: float(x.split(\":\")[6][:-1]))\n",
        "df58.dtypes"
      ],
      "metadata": {
        "colab": {
          "base_uri": "https://localhost:8080/"
        },
        "id": "gPCNBjTT3hJ_",
        "outputId": "25990f50-7b8c-4598-97c1-f717f37909e4"
      },
      "execution_count": null,
      "outputs": [
        {
          "output_type": "execute_result",
          "data": {
            "text/plain": [
              "Reference     object\n",
              "Position       int64\n",
              "Before        object\n",
              "After         object\n",
              "Freq         float64\n",
              "dtype: object"
            ]
          },
          "metadata": {},
          "execution_count": 43
        }
      ]
    },
    {
      "cell_type": "code",
      "source": [
        "print(f'For the control sample _58 SNPs: mean = {round(df58[\"Freq\"].mean(), 4)}, standard deviation = {round(df58[\"Freq\"].std(), 4)}')"
      ],
      "metadata": {
        "colab": {
          "base_uri": "https://localhost:8080/"
        },
        "id": "oVwrZWNXp6T7",
        "outputId": "ea9f4f88-f1d4-49ef-9058-26dec8cec6de"
      },
      "execution_count": null,
      "outputs": [
        {
          "output_type": "stream",
          "name": "stdout",
          "text": [
            "For the control sample _58 SNPs: mean = 0.2565, standard deviation = 0.0717\n"
          ]
        }
      ]
    },
    {
      "cell_type": "markdown",
      "source": [
        "#### Ctrl _59 data:"
      ],
      "metadata": {
        "id": "vCC2hMjwqDfs"
      }
    },
    {
      "cell_type": "code",
      "source": [
        "df59 = pd.read_csv(\"diff_59_ref_vcf.txt\", sep=\" \", header=None, names=[\"Reference\", \"Position\", \"Before\", \"After\", \"Freq\"])\n",
        "df59[\"Freq\"] = df59[\"Freq\"].apply(lambda x: float(x.split(\":\")[6][:-1]))\n",
        "df59.head(3)"
      ],
      "metadata": {
        "colab": {
          "base_uri": "https://localhost:8080/",
          "height": 143
        },
        "id": "NyBBIafkBoWq",
        "outputId": "9d2df71d-5c19-48ad-fc2a-cddc05853653"
      },
      "execution_count": null,
      "outputs": [
        {
          "output_type": "execute_result",
          "data": {
            "text/plain": [
              "    Reference  Position Before After  Freq\n",
              "0  KF848938.1        44      T     C  0.47\n",
              "1  KF848938.1       158      A     G  0.24\n",
              "2  KF848938.1       165      T     C  0.27"
            ],
            "text/html": [
              "\n",
              "  <div id=\"df-1ebb6501-0282-4e6b-8f91-db5d5bbabcfd\">\n",
              "    <div class=\"colab-df-container\">\n",
              "      <div>\n",
              "<style scoped>\n",
              "    .dataframe tbody tr th:only-of-type {\n",
              "        vertical-align: middle;\n",
              "    }\n",
              "\n",
              "    .dataframe tbody tr th {\n",
              "        vertical-align: top;\n",
              "    }\n",
              "\n",
              "    .dataframe thead th {\n",
              "        text-align: right;\n",
              "    }\n",
              "</style>\n",
              "<table border=\"1\" class=\"dataframe\">\n",
              "  <thead>\n",
              "    <tr style=\"text-align: right;\">\n",
              "      <th></th>\n",
              "      <th>Reference</th>\n",
              "      <th>Position</th>\n",
              "      <th>Before</th>\n",
              "      <th>After</th>\n",
              "      <th>Freq</th>\n",
              "    </tr>\n",
              "  </thead>\n",
              "  <tbody>\n",
              "    <tr>\n",
              "      <th>0</th>\n",
              "      <td>KF848938.1</td>\n",
              "      <td>44</td>\n",
              "      <td>T</td>\n",
              "      <td>C</td>\n",
              "      <td>0.47</td>\n",
              "    </tr>\n",
              "    <tr>\n",
              "      <th>1</th>\n",
              "      <td>KF848938.1</td>\n",
              "      <td>158</td>\n",
              "      <td>A</td>\n",
              "      <td>G</td>\n",
              "      <td>0.24</td>\n",
              "    </tr>\n",
              "    <tr>\n",
              "      <th>2</th>\n",
              "      <td>KF848938.1</td>\n",
              "      <td>165</td>\n",
              "      <td>T</td>\n",
              "      <td>C</td>\n",
              "      <td>0.27</td>\n",
              "    </tr>\n",
              "  </tbody>\n",
              "</table>\n",
              "</div>\n",
              "      <button class=\"colab-df-convert\" onclick=\"convertToInteractive('df-1ebb6501-0282-4e6b-8f91-db5d5bbabcfd')\"\n",
              "              title=\"Convert this dataframe to an interactive table.\"\n",
              "              style=\"display:none;\">\n",
              "        \n",
              "  <svg xmlns=\"http://www.w3.org/2000/svg\" height=\"24px\"viewBox=\"0 0 24 24\"\n",
              "       width=\"24px\">\n",
              "    <path d=\"M0 0h24v24H0V0z\" fill=\"none\"/>\n",
              "    <path d=\"M18.56 5.44l.94 2.06.94-2.06 2.06-.94-2.06-.94-.94-2.06-.94 2.06-2.06.94zm-11 1L8.5 8.5l.94-2.06 2.06-.94-2.06-.94L8.5 2.5l-.94 2.06-2.06.94zm10 10l.94 2.06.94-2.06 2.06-.94-2.06-.94-.94-2.06-.94 2.06-2.06.94z\"/><path d=\"M17.41 7.96l-1.37-1.37c-.4-.4-.92-.59-1.43-.59-.52 0-1.04.2-1.43.59L10.3 9.45l-7.72 7.72c-.78.78-.78 2.05 0 2.83L4 21.41c.39.39.9.59 1.41.59.51 0 1.02-.2 1.41-.59l7.78-7.78 2.81-2.81c.8-.78.8-2.07 0-2.86zM5.41 20L4 18.59l7.72-7.72 1.47 1.35L5.41 20z\"/>\n",
              "  </svg>\n",
              "      </button>\n",
              "      \n",
              "  <style>\n",
              "    .colab-df-container {\n",
              "      display:flex;\n",
              "      flex-wrap:wrap;\n",
              "      gap: 12px;\n",
              "    }\n",
              "\n",
              "    .colab-df-convert {\n",
              "      background-color: #E8F0FE;\n",
              "      border: none;\n",
              "      border-radius: 50%;\n",
              "      cursor: pointer;\n",
              "      display: none;\n",
              "      fill: #1967D2;\n",
              "      height: 32px;\n",
              "      padding: 0 0 0 0;\n",
              "      width: 32px;\n",
              "    }\n",
              "\n",
              "    .colab-df-convert:hover {\n",
              "      background-color: #E2EBFA;\n",
              "      box-shadow: 0px 1px 2px rgba(60, 64, 67, 0.3), 0px 1px 3px 1px rgba(60, 64, 67, 0.15);\n",
              "      fill: #174EA6;\n",
              "    }\n",
              "\n",
              "    [theme=dark] .colab-df-convert {\n",
              "      background-color: #3B4455;\n",
              "      fill: #D2E3FC;\n",
              "    }\n",
              "\n",
              "    [theme=dark] .colab-df-convert:hover {\n",
              "      background-color: #434B5C;\n",
              "      box-shadow: 0px 1px 3px 1px rgba(0, 0, 0, 0.15);\n",
              "      filter: drop-shadow(0px 1px 2px rgba(0, 0, 0, 0.3));\n",
              "      fill: #FFFFFF;\n",
              "    }\n",
              "  </style>\n",
              "\n",
              "      <script>\n",
              "        const buttonEl =\n",
              "          document.querySelector('#df-1ebb6501-0282-4e6b-8f91-db5d5bbabcfd button.colab-df-convert');\n",
              "        buttonEl.style.display =\n",
              "          google.colab.kernel.accessAllowed ? 'block' : 'none';\n",
              "\n",
              "        async function convertToInteractive(key) {\n",
              "          const element = document.querySelector('#df-1ebb6501-0282-4e6b-8f91-db5d5bbabcfd');\n",
              "          const dataTable =\n",
              "            await google.colab.kernel.invokeFunction('convertToInteractive',\n",
              "                                                     [key], {});\n",
              "          if (!dataTable) return;\n",
              "\n",
              "          const docLinkHtml = 'Like what you see? Visit the ' +\n",
              "            '<a target=\"_blank\" href=https://colab.research.google.com/notebooks/data_table.ipynb>data table notebook</a>'\n",
              "            + ' to learn more about interactive tables.';\n",
              "          element.innerHTML = '';\n",
              "          dataTable['output_type'] = 'display_data';\n",
              "          await google.colab.output.renderOutput(dataTable, element);\n",
              "          const docLink = document.createElement('div');\n",
              "          docLink.innerHTML = docLinkHtml;\n",
              "          element.appendChild(docLink);\n",
              "        }\n",
              "      </script>\n",
              "    </div>\n",
              "  </div>\n",
              "  "
            ]
          },
          "metadata": {},
          "execution_count": 45
        }
      ]
    },
    {
      "cell_type": "code",
      "source": [
        "print(f'For the control sample _59 SNPs: mean = {round(df59[\"Freq\"].mean(), 4)}, standard deviation = {round(df59[\"Freq\"].std(), 4)}')"
      ],
      "metadata": {
        "colab": {
          "base_uri": "https://localhost:8080/"
        },
        "id": "elkZHGc9qHkS",
        "outputId": "81d92482-37b2-4c07-e8a9-73f50c2bcbea"
      },
      "execution_count": null,
      "outputs": [
        {
          "output_type": "stream",
          "name": "stdout",
          "text": [
            "For the control sample _59 SNPs: mean = 0.2369, standard deviation = 0.0524\n"
          ]
        }
      ]
    },
    {
      "cell_type": "markdown",
      "source": [
        "#### Ctrl _60 data:"
      ],
      "metadata": {
        "id": "93ONEKWWqNVr"
      }
    },
    {
      "cell_type": "code",
      "source": [
        "df60 = pd.read_csv(\"diff_60_ref_vcf.txt\", sep=\" \", header=None, names=[\"Reference\", \"Position\", \"Before\", \"After\", \"Freq\"])\n",
        "df60[\"Freq\"] = df60[\"Freq\"].apply(lambda x: float(x.split(\":\")[6][:-1]))\n",
        "df60.head(3)"
      ],
      "metadata": {
        "colab": {
          "base_uri": "https://localhost:8080/",
          "height": 143
        },
        "id": "ssoD9FASBy_o",
        "outputId": "ad8bbb7a-c179-4057-8fb0-1b751312c5b7"
      },
      "execution_count": null,
      "outputs": [
        {
          "output_type": "execute_result",
          "data": {
            "text/plain": [
              "    Reference  Position Before After  Freq\n",
              "0  KF848938.1        38      T     C  0.70\n",
              "1  KF848938.1        44      T     C  0.50\n",
              "2  KF848938.1        95      A     G  0.24"
            ],
            "text/html": [
              "\n",
              "  <div id=\"df-44b859ba-c7b3-4f1a-8ca0-b945cda5bb0f\">\n",
              "    <div class=\"colab-df-container\">\n",
              "      <div>\n",
              "<style scoped>\n",
              "    .dataframe tbody tr th:only-of-type {\n",
              "        vertical-align: middle;\n",
              "    }\n",
              "\n",
              "    .dataframe tbody tr th {\n",
              "        vertical-align: top;\n",
              "    }\n",
              "\n",
              "    .dataframe thead th {\n",
              "        text-align: right;\n",
              "    }\n",
              "</style>\n",
              "<table border=\"1\" class=\"dataframe\">\n",
              "  <thead>\n",
              "    <tr style=\"text-align: right;\">\n",
              "      <th></th>\n",
              "      <th>Reference</th>\n",
              "      <th>Position</th>\n",
              "      <th>Before</th>\n",
              "      <th>After</th>\n",
              "      <th>Freq</th>\n",
              "    </tr>\n",
              "  </thead>\n",
              "  <tbody>\n",
              "    <tr>\n",
              "      <th>0</th>\n",
              "      <td>KF848938.1</td>\n",
              "      <td>38</td>\n",
              "      <td>T</td>\n",
              "      <td>C</td>\n",
              "      <td>0.70</td>\n",
              "    </tr>\n",
              "    <tr>\n",
              "      <th>1</th>\n",
              "      <td>KF848938.1</td>\n",
              "      <td>44</td>\n",
              "      <td>T</td>\n",
              "      <td>C</td>\n",
              "      <td>0.50</td>\n",
              "    </tr>\n",
              "    <tr>\n",
              "      <th>2</th>\n",
              "      <td>KF848938.1</td>\n",
              "      <td>95</td>\n",
              "      <td>A</td>\n",
              "      <td>G</td>\n",
              "      <td>0.24</td>\n",
              "    </tr>\n",
              "  </tbody>\n",
              "</table>\n",
              "</div>\n",
              "      <button class=\"colab-df-convert\" onclick=\"convertToInteractive('df-44b859ba-c7b3-4f1a-8ca0-b945cda5bb0f')\"\n",
              "              title=\"Convert this dataframe to an interactive table.\"\n",
              "              style=\"display:none;\">\n",
              "        \n",
              "  <svg xmlns=\"http://www.w3.org/2000/svg\" height=\"24px\"viewBox=\"0 0 24 24\"\n",
              "       width=\"24px\">\n",
              "    <path d=\"M0 0h24v24H0V0z\" fill=\"none\"/>\n",
              "    <path d=\"M18.56 5.44l.94 2.06.94-2.06 2.06-.94-2.06-.94-.94-2.06-.94 2.06-2.06.94zm-11 1L8.5 8.5l.94-2.06 2.06-.94-2.06-.94L8.5 2.5l-.94 2.06-2.06.94zm10 10l.94 2.06.94-2.06 2.06-.94-2.06-.94-.94-2.06-.94 2.06-2.06.94z\"/><path d=\"M17.41 7.96l-1.37-1.37c-.4-.4-.92-.59-1.43-.59-.52 0-1.04.2-1.43.59L10.3 9.45l-7.72 7.72c-.78.78-.78 2.05 0 2.83L4 21.41c.39.39.9.59 1.41.59.51 0 1.02-.2 1.41-.59l7.78-7.78 2.81-2.81c.8-.78.8-2.07 0-2.86zM5.41 20L4 18.59l7.72-7.72 1.47 1.35L5.41 20z\"/>\n",
              "  </svg>\n",
              "      </button>\n",
              "      \n",
              "  <style>\n",
              "    .colab-df-container {\n",
              "      display:flex;\n",
              "      flex-wrap:wrap;\n",
              "      gap: 12px;\n",
              "    }\n",
              "\n",
              "    .colab-df-convert {\n",
              "      background-color: #E8F0FE;\n",
              "      border: none;\n",
              "      border-radius: 50%;\n",
              "      cursor: pointer;\n",
              "      display: none;\n",
              "      fill: #1967D2;\n",
              "      height: 32px;\n",
              "      padding: 0 0 0 0;\n",
              "      width: 32px;\n",
              "    }\n",
              "\n",
              "    .colab-df-convert:hover {\n",
              "      background-color: #E2EBFA;\n",
              "      box-shadow: 0px 1px 2px rgba(60, 64, 67, 0.3), 0px 1px 3px 1px rgba(60, 64, 67, 0.15);\n",
              "      fill: #174EA6;\n",
              "    }\n",
              "\n",
              "    [theme=dark] .colab-df-convert {\n",
              "      background-color: #3B4455;\n",
              "      fill: #D2E3FC;\n",
              "    }\n",
              "\n",
              "    [theme=dark] .colab-df-convert:hover {\n",
              "      background-color: #434B5C;\n",
              "      box-shadow: 0px 1px 3px 1px rgba(0, 0, 0, 0.15);\n",
              "      filter: drop-shadow(0px 1px 2px rgba(0, 0, 0, 0.3));\n",
              "      fill: #FFFFFF;\n",
              "    }\n",
              "  </style>\n",
              "\n",
              "      <script>\n",
              "        const buttonEl =\n",
              "          document.querySelector('#df-44b859ba-c7b3-4f1a-8ca0-b945cda5bb0f button.colab-df-convert');\n",
              "        buttonEl.style.display =\n",
              "          google.colab.kernel.accessAllowed ? 'block' : 'none';\n",
              "\n",
              "        async function convertToInteractive(key) {\n",
              "          const element = document.querySelector('#df-44b859ba-c7b3-4f1a-8ca0-b945cda5bb0f');\n",
              "          const dataTable =\n",
              "            await google.colab.kernel.invokeFunction('convertToInteractive',\n",
              "                                                     [key], {});\n",
              "          if (!dataTable) return;\n",
              "\n",
              "          const docLinkHtml = 'Like what you see? Visit the ' +\n",
              "            '<a target=\"_blank\" href=https://colab.research.google.com/notebooks/data_table.ipynb>data table notebook</a>'\n",
              "            + ' to learn more about interactive tables.';\n",
              "          element.innerHTML = '';\n",
              "          dataTable['output_type'] = 'display_data';\n",
              "          await google.colab.output.renderOutput(dataTable, element);\n",
              "          const docLink = document.createElement('div');\n",
              "          docLink.innerHTML = docLinkHtml;\n",
              "          element.appendChild(docLink);\n",
              "        }\n",
              "      </script>\n",
              "    </div>\n",
              "  </div>\n",
              "  "
            ]
          },
          "metadata": {},
          "execution_count": 47
        }
      ]
    },
    {
      "cell_type": "code",
      "source": [
        "print(f'For the control sample _60 SNPs: mean = {round(df60[\"Freq\"].mean(), 4)}, standard deviation = {round(df60[\"Freq\"].std(), 4)}')"
      ],
      "metadata": {
        "colab": {
          "base_uri": "https://localhost:8080/"
        },
        "id": "uNxn3xOlqSJx",
        "outputId": "d913e1eb-a197-47aa-bb3a-a8dec4ee6ca8"
      },
      "execution_count": null,
      "outputs": [
        {
          "output_type": "stream",
          "name": "stdout",
          "text": [
            "For the control sample _60 SNPs: mean = 0.2503, standard deviation = 0.078\n"
          ]
        }
      ]
    },
    {
      "cell_type": "markdown",
      "source": [
        "#### Roommate data"
      ],
      "metadata": {
        "id": "k1qPzTCppqqA"
      }
    },
    {
      "cell_type": "code",
      "source": [
        "df_rmm = pd.read_csv(\"diff_roommate_ref_vcf.txt\", sep=\" \", header=None, names=[\"Reference\", \"Position\", \"Before\", \"After\", \"Freq\"])\n",
        "df_rmm[\"Freq\"] = df_rmm[\"Freq\"].apply(lambda x: float(x.split(\":\")[6][:-1]))\n"
      ],
      "metadata": {
        "id": "ri6mDXNUB32S"
      },
      "execution_count": null,
      "outputs": []
    },
    {
      "cell_type": "code",
      "source": [
        "print(f'For the roommate SNPs: mean = {round(df_rmm[\"Freq\"].mean(), 4)}, standard deviation = {round(df_rmm[\"Freq\"].std(), 4)}')"
      ],
      "metadata": {
        "colab": {
          "base_uri": "https://localhost:8080/"
        },
        "id": "ArNLGCD1o4k4",
        "outputId": "0d3c6546-b7ab-44a5-fc71-542e7b7a9210"
      },
      "execution_count": null,
      "outputs": [
        {
          "output_type": "stream",
          "name": "stdout",
          "text": [
            "For the roommate SNPs: mean = 23.999, standard deviation = 43.4828\n"
          ]
        }
      ]
    },
    {
      "cell_type": "markdown",
      "source": [
        "We can see that there are some outliers in the data with values around 99%, whereas other values are below 1%. Frequencies of these mutations are shifting the mean and std estimators to the higher values. So in order to keep low-frequency mutations we can eliminate them from our calculations:"
      ],
      "metadata": {
        "id": "oGzm4otaqnEB"
      }
    },
    {
      "cell_type": "code",
      "source": [
        "freq_low = df_rmm[df_rmm[\"Freq\"] < 99][\"Freq\"]\n",
        "print(f'For the roommate SNPs: mean = {round(freq_low.mean(), 4)}, standard deviation = {round(freq_low.std(), 4)}')"
      ],
      "metadata": {
        "colab": {
          "base_uri": "https://localhost:8080/"
        },
        "id": "DfsPE4EBtJQj",
        "outputId": "1e91e7fb-39ec-4ed3-e37b-a539583c90be"
      },
      "execution_count": null,
      "outputs": [
        {
          "output_type": "stream",
          "name": "stdout",
          "text": [
            "For the roommate SNPs: mean = 0.2775, standard deviation = 0.2407\n"
          ]
        }
      ]
    },
    {
      "cell_type": "code",
      "source": [
        "df_rmm.sort_values(by=\"Freq\")"
      ],
      "metadata": {
        "colab": {
          "base_uri": "https://localhost:8080/",
          "height": 708
        },
        "id": "4SZKu8yjxbbV",
        "outputId": "92eb43e5-9635-4f31-b04a-c9d3bdea0e49"
      },
      "execution_count": null,
      "outputs": [
        {
          "output_type": "execute_result",
          "data": {
            "text/plain": [
              "     Reference  Position Before After   Freq\n",
              "9   KF848938.1       744      A     G   0.17\n",
              "2   KF848938.1       254      A     G   0.17\n",
              "3   KF848938.1       276      A     G   0.17\n",
              "5   KF848938.1       340      T     C   0.17\n",
              "7   KF848938.1       691      A     G   0.17\n",
              "15  KF848938.1      1043      A     G   0.18\n",
              "19  KF848938.1      1280      T     C   0.18\n",
              "12  KF848938.1       859      A     G   0.18\n",
              "13  KF848938.1       915      T     C   0.19\n",
              "8   KF848938.1       722      A     G   0.20\n",
              "16  KF848938.1      1086      A     G   0.21\n",
              "6   KF848938.1       389      T     C   0.22\n",
              "17  KF848938.1      1213      A     G   0.22\n",
              "11  KF848938.1       802      A     G   0.23\n",
              "20  KF848938.1      1458      T     C   0.84\n",
              "4   KF848938.1       307      C     T   0.94\n",
              "1   KF848938.1       117      C     T  99.82\n",
              "14  KF848938.1       999      C     T  99.86\n",
              "18  KF848938.1      1260      A     C  99.94\n",
              "0   KF848938.1        72      A     G  99.96\n",
              "10  KF848938.1       774      T     C  99.96"
            ],
            "text/html": [
              "\n",
              "  <div id=\"df-602d75bb-549e-4b43-9a06-621f12dbc317\">\n",
              "    <div class=\"colab-df-container\">\n",
              "      <div>\n",
              "<style scoped>\n",
              "    .dataframe tbody tr th:only-of-type {\n",
              "        vertical-align: middle;\n",
              "    }\n",
              "\n",
              "    .dataframe tbody tr th {\n",
              "        vertical-align: top;\n",
              "    }\n",
              "\n",
              "    .dataframe thead th {\n",
              "        text-align: right;\n",
              "    }\n",
              "</style>\n",
              "<table border=\"1\" class=\"dataframe\">\n",
              "  <thead>\n",
              "    <tr style=\"text-align: right;\">\n",
              "      <th></th>\n",
              "      <th>Reference</th>\n",
              "      <th>Position</th>\n",
              "      <th>Before</th>\n",
              "      <th>After</th>\n",
              "      <th>Freq</th>\n",
              "    </tr>\n",
              "  </thead>\n",
              "  <tbody>\n",
              "    <tr>\n",
              "      <th>9</th>\n",
              "      <td>KF848938.1</td>\n",
              "      <td>744</td>\n",
              "      <td>A</td>\n",
              "      <td>G</td>\n",
              "      <td>0.17</td>\n",
              "    </tr>\n",
              "    <tr>\n",
              "      <th>2</th>\n",
              "      <td>KF848938.1</td>\n",
              "      <td>254</td>\n",
              "      <td>A</td>\n",
              "      <td>G</td>\n",
              "      <td>0.17</td>\n",
              "    </tr>\n",
              "    <tr>\n",
              "      <th>3</th>\n",
              "      <td>KF848938.1</td>\n",
              "      <td>276</td>\n",
              "      <td>A</td>\n",
              "      <td>G</td>\n",
              "      <td>0.17</td>\n",
              "    </tr>\n",
              "    <tr>\n",
              "      <th>5</th>\n",
              "      <td>KF848938.1</td>\n",
              "      <td>340</td>\n",
              "      <td>T</td>\n",
              "      <td>C</td>\n",
              "      <td>0.17</td>\n",
              "    </tr>\n",
              "    <tr>\n",
              "      <th>7</th>\n",
              "      <td>KF848938.1</td>\n",
              "      <td>691</td>\n",
              "      <td>A</td>\n",
              "      <td>G</td>\n",
              "      <td>0.17</td>\n",
              "    </tr>\n",
              "    <tr>\n",
              "      <th>15</th>\n",
              "      <td>KF848938.1</td>\n",
              "      <td>1043</td>\n",
              "      <td>A</td>\n",
              "      <td>G</td>\n",
              "      <td>0.18</td>\n",
              "    </tr>\n",
              "    <tr>\n",
              "      <th>19</th>\n",
              "      <td>KF848938.1</td>\n",
              "      <td>1280</td>\n",
              "      <td>T</td>\n",
              "      <td>C</td>\n",
              "      <td>0.18</td>\n",
              "    </tr>\n",
              "    <tr>\n",
              "      <th>12</th>\n",
              "      <td>KF848938.1</td>\n",
              "      <td>859</td>\n",
              "      <td>A</td>\n",
              "      <td>G</td>\n",
              "      <td>0.18</td>\n",
              "    </tr>\n",
              "    <tr>\n",
              "      <th>13</th>\n",
              "      <td>KF848938.1</td>\n",
              "      <td>915</td>\n",
              "      <td>T</td>\n",
              "      <td>C</td>\n",
              "      <td>0.19</td>\n",
              "    </tr>\n",
              "    <tr>\n",
              "      <th>8</th>\n",
              "      <td>KF848938.1</td>\n",
              "      <td>722</td>\n",
              "      <td>A</td>\n",
              "      <td>G</td>\n",
              "      <td>0.20</td>\n",
              "    </tr>\n",
              "    <tr>\n",
              "      <th>16</th>\n",
              "      <td>KF848938.1</td>\n",
              "      <td>1086</td>\n",
              "      <td>A</td>\n",
              "      <td>G</td>\n",
              "      <td>0.21</td>\n",
              "    </tr>\n",
              "    <tr>\n",
              "      <th>6</th>\n",
              "      <td>KF848938.1</td>\n",
              "      <td>389</td>\n",
              "      <td>T</td>\n",
              "      <td>C</td>\n",
              "      <td>0.22</td>\n",
              "    </tr>\n",
              "    <tr>\n",
              "      <th>17</th>\n",
              "      <td>KF848938.1</td>\n",
              "      <td>1213</td>\n",
              "      <td>A</td>\n",
              "      <td>G</td>\n",
              "      <td>0.22</td>\n",
              "    </tr>\n",
              "    <tr>\n",
              "      <th>11</th>\n",
              "      <td>KF848938.1</td>\n",
              "      <td>802</td>\n",
              "      <td>A</td>\n",
              "      <td>G</td>\n",
              "      <td>0.23</td>\n",
              "    </tr>\n",
              "    <tr>\n",
              "      <th>20</th>\n",
              "      <td>KF848938.1</td>\n",
              "      <td>1458</td>\n",
              "      <td>T</td>\n",
              "      <td>C</td>\n",
              "      <td>0.84</td>\n",
              "    </tr>\n",
              "    <tr>\n",
              "      <th>4</th>\n",
              "      <td>KF848938.1</td>\n",
              "      <td>307</td>\n",
              "      <td>C</td>\n",
              "      <td>T</td>\n",
              "      <td>0.94</td>\n",
              "    </tr>\n",
              "    <tr>\n",
              "      <th>1</th>\n",
              "      <td>KF848938.1</td>\n",
              "      <td>117</td>\n",
              "      <td>C</td>\n",
              "      <td>T</td>\n",
              "      <td>99.82</td>\n",
              "    </tr>\n",
              "    <tr>\n",
              "      <th>14</th>\n",
              "      <td>KF848938.1</td>\n",
              "      <td>999</td>\n",
              "      <td>C</td>\n",
              "      <td>T</td>\n",
              "      <td>99.86</td>\n",
              "    </tr>\n",
              "    <tr>\n",
              "      <th>18</th>\n",
              "      <td>KF848938.1</td>\n",
              "      <td>1260</td>\n",
              "      <td>A</td>\n",
              "      <td>C</td>\n",
              "      <td>99.94</td>\n",
              "    </tr>\n",
              "    <tr>\n",
              "      <th>0</th>\n",
              "      <td>KF848938.1</td>\n",
              "      <td>72</td>\n",
              "      <td>A</td>\n",
              "      <td>G</td>\n",
              "      <td>99.96</td>\n",
              "    </tr>\n",
              "    <tr>\n",
              "      <th>10</th>\n",
              "      <td>KF848938.1</td>\n",
              "      <td>774</td>\n",
              "      <td>T</td>\n",
              "      <td>C</td>\n",
              "      <td>99.96</td>\n",
              "    </tr>\n",
              "  </tbody>\n",
              "</table>\n",
              "</div>\n",
              "      <button class=\"colab-df-convert\" onclick=\"convertToInteractive('df-602d75bb-549e-4b43-9a06-621f12dbc317')\"\n",
              "              title=\"Convert this dataframe to an interactive table.\"\n",
              "              style=\"display:none;\">\n",
              "        \n",
              "  <svg xmlns=\"http://www.w3.org/2000/svg\" height=\"24px\"viewBox=\"0 0 24 24\"\n",
              "       width=\"24px\">\n",
              "    <path d=\"M0 0h24v24H0V0z\" fill=\"none\"/>\n",
              "    <path d=\"M18.56 5.44l.94 2.06.94-2.06 2.06-.94-2.06-.94-.94-2.06-.94 2.06-2.06.94zm-11 1L8.5 8.5l.94-2.06 2.06-.94-2.06-.94L8.5 2.5l-.94 2.06-2.06.94zm10 10l.94 2.06.94-2.06 2.06-.94-2.06-.94-.94-2.06-.94 2.06-2.06.94z\"/><path d=\"M17.41 7.96l-1.37-1.37c-.4-.4-.92-.59-1.43-.59-.52 0-1.04.2-1.43.59L10.3 9.45l-7.72 7.72c-.78.78-.78 2.05 0 2.83L4 21.41c.39.39.9.59 1.41.59.51 0 1.02-.2 1.41-.59l7.78-7.78 2.81-2.81c.8-.78.8-2.07 0-2.86zM5.41 20L4 18.59l7.72-7.72 1.47 1.35L5.41 20z\"/>\n",
              "  </svg>\n",
              "      </button>\n",
              "      \n",
              "  <style>\n",
              "    .colab-df-container {\n",
              "      display:flex;\n",
              "      flex-wrap:wrap;\n",
              "      gap: 12px;\n",
              "    }\n",
              "\n",
              "    .colab-df-convert {\n",
              "      background-color: #E8F0FE;\n",
              "      border: none;\n",
              "      border-radius: 50%;\n",
              "      cursor: pointer;\n",
              "      display: none;\n",
              "      fill: #1967D2;\n",
              "      height: 32px;\n",
              "      padding: 0 0 0 0;\n",
              "      width: 32px;\n",
              "    }\n",
              "\n",
              "    .colab-df-convert:hover {\n",
              "      background-color: #E2EBFA;\n",
              "      box-shadow: 0px 1px 2px rgba(60, 64, 67, 0.3), 0px 1px 3px 1px rgba(60, 64, 67, 0.15);\n",
              "      fill: #174EA6;\n",
              "    }\n",
              "\n",
              "    [theme=dark] .colab-df-convert {\n",
              "      background-color: #3B4455;\n",
              "      fill: #D2E3FC;\n",
              "    }\n",
              "\n",
              "    [theme=dark] .colab-df-convert:hover {\n",
              "      background-color: #434B5C;\n",
              "      box-shadow: 0px 1px 3px 1px rgba(0, 0, 0, 0.15);\n",
              "      filter: drop-shadow(0px 1px 2px rgba(0, 0, 0, 0.3));\n",
              "      fill: #FFFFFF;\n",
              "    }\n",
              "  </style>\n",
              "\n",
              "      <script>\n",
              "        const buttonEl =\n",
              "          document.querySelector('#df-602d75bb-549e-4b43-9a06-621f12dbc317 button.colab-df-convert');\n",
              "        buttonEl.style.display =\n",
              "          google.colab.kernel.accessAllowed ? 'block' : 'none';\n",
              "\n",
              "        async function convertToInteractive(key) {\n",
              "          const element = document.querySelector('#df-602d75bb-549e-4b43-9a06-621f12dbc317');\n",
              "          const dataTable =\n",
              "            await google.colab.kernel.invokeFunction('convertToInteractive',\n",
              "                                                     [key], {});\n",
              "          if (!dataTable) return;\n",
              "\n",
              "          const docLinkHtml = 'Like what you see? Visit the ' +\n",
              "            '<a target=\"_blank\" href=https://colab.research.google.com/notebooks/data_table.ipynb>data table notebook</a>'\n",
              "            + ' to learn more about interactive tables.';\n",
              "          element.innerHTML = '';\n",
              "          dataTable['output_type'] = 'display_data';\n",
              "          await google.colab.output.renderOutput(dataTable, element);\n",
              "          const docLink = document.createElement('div');\n",
              "          docLink.innerHTML = docLinkHtml;\n",
              "          element.appendChild(docLink);\n",
              "        }\n",
              "      </script>\n",
              "    </div>\n",
              "  </div>\n",
              "  "
            ]
          },
          "metadata": {},
          "execution_count": 52
        }
      ]
    },
    {
      "cell_type": "markdown",
      "source": [
        "> *Did VarScan report rare mutations in your roommate’s file with frequencies that are more than 3 standard deviations away from the averages in the reference files?*\n",
        "\n",
        "As were previously discussed in the class, we should use the maximum std from the control samples. Out of [0.072, 0.052, 0.076] the biggest one is 0.076. Then we will take the corresponding mean of 0.25. Then the limits for the frequencies will be $(0.25 - 0.076\\cdot3, 0.25 + 0.076\\cdot3) = (0.022, 0.478)$.\n",
        "We can see that 7 values are out of these boundaries: 3 with high frequency we've already saw and 2 interesting variants on positions 1458 and 307.\n",
        "\n"
      ],
      "metadata": {
        "id": "CGVKbQq4uw2O"
      }
    },
    {
      "cell_type": "markdown",
      "source": [
        "* If we look at the protein data we will see that **1458** base is T on the 3rd position in (TAT) UAU codon = Y, tyrosine. It changed to C --> (TAC) UAC codon = still tyrosine. So on this position is synonymous substitution."
      ],
      "metadata": {
        "id": "6LgsFGEt-QVJ"
      }
    },
    {
      "cell_type": "markdown",
      "source": [
        "![1458.jpg](data:image/jpeg;base64,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)"
      ],
      "metadata": {
        "id": "5BKPlp-C9dKm"
      }
    },
    {
      "cell_type": "markdown",
      "source": [
        "* If we look at the **307** base we will see that there is the first C in the CCG codon = P, proline, which is changing to T, resulting in TCG codon. In this case this is missence mutation, non-synonimous sunstitution, because (TCG) UCG codes serine. We can see that uncharged amno acid was substituted by another polar uncharged amino acid, so chemical properties of the radical did't change dramatically. However, polar charges of serine are more significant because of OH-group, so this substitution might affect some coordinating residues around this base.\n"
      ],
      "metadata": {
        "id": "HMarO7hH_ePH"
      }
    },
    {
      "cell_type": "markdown",
      "source": [
        "![307.jpg](data:image/jpeg;base64,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)"
      ],
      "metadata": {
        "id": "RiMaHMSF_glk"
      }
    },
    {
      "cell_type": "markdown",
      "source": [
        "Common mutations between roommate's data and control samples:"
      ],
      "metadata": {
        "id": "mdWg9XNBqeDg"
      }
    },
    {
      "cell_type": "code",
      "source": [
        "positions = []\n",
        "for i in range(df_rmm.shape[0]):\n",
        "    pos = df_rmm.iloc[i][\"Position\"]\n",
        "    if pos in df58[\"Position\"].to_list():\n",
        "        positions.append(pos)\n",
        "        print(\"match with _58 control:\", df_rmm.iloc[[i]], df58.iloc[[i]], sep = \"\\n\")\n",
        "    elif pos in df59[\"Position\"].to_list():\n",
        "        positions.append(pos)\n",
        "        print(\"match with _59 control:\", df_rmm.iloc[[i]], df58.iloc[[i]], sep = \"\\n\")\n",
        "    elif pos in df60[\"Position\"].to_list():\n",
        "        positions.append(pos)\n",
        "        print(\"match with _60 control:\", df_rmm.iloc[[i]], df58.iloc[[i]], sep = \"\\n\")"
      ],
      "metadata": {
        "colab": {
          "base_uri": "https://localhost:8080/"
        },
        "id": "08dCBGFYB-24",
        "outputId": "194c1281-24a8-4766-e8f0-11c97cc3fbe8"
      },
      "execution_count": null,
      "outputs": [
        {
          "output_type": "stream",
          "name": "stdout",
          "text": [
            "match with _58 control:\n",
            "    Reference  Position Before After   Freq\n",
            "0  KF848938.1        72      A     G  99.96\n",
            "    Reference  Position Before After  Freq\n",
            "0  KF848938.1        38      T     C  0.66\n",
            "match with _58 control:\n",
            "    Reference  Position Before After   Freq\n",
            "1  KF848938.1       117      C     T  99.82\n",
            "    Reference  Position Before After  Freq\n",
            "1  KF848938.1        54      T     C   0.3\n",
            "match with _58 control:\n",
            "    Reference  Position Before After  Freq\n",
            "2  KF848938.1       254      A     G  0.17\n",
            "    Reference  Position Before After  Freq\n",
            "2  KF848938.1        72      A     G   0.3\n",
            "match with _58 control:\n",
            "    Reference  Position Before After  Freq\n",
            "3  KF848938.1       276      A     G  0.17\n",
            "    Reference  Position Before After  Freq\n",
            "3  KF848938.1        95      A     G  0.24\n",
            "match with _58 control:\n",
            "    Reference  Position Before After  Freq\n",
            "5  KF848938.1       340      T     C  0.17\n",
            "    Reference  Position Before After  Freq\n",
            "5  KF848938.1       165      T     C  0.24\n",
            "match with _58 control:\n",
            "    Reference  Position Before After  Freq\n",
            "6  KF848938.1       389      T     C  0.22\n",
            "    Reference  Position Before After  Freq\n",
            "6  KF848938.1       183      A     G   0.3\n",
            "match with _58 control:\n",
            "    Reference  Position Before After  Freq\n",
            "7  KF848938.1       691      A     G  0.17\n",
            "    Reference  Position Before After  Freq\n",
            "7  KF848938.1       216      A     G  0.22\n",
            "match with _58 control:\n",
            "    Reference  Position Before After  Freq\n",
            "8  KF848938.1       722      A     G   0.2\n",
            "    Reference  Position Before After  Freq\n",
            "8  KF848938.1       218      A     G  0.28\n",
            "match with _58 control:\n",
            "    Reference  Position Before After  Freq\n",
            "9  KF848938.1       744      A     G  0.17\n",
            "    Reference  Position Before After  Freq\n",
            "9  KF848938.1       222      T     C  0.26\n",
            "match with _58 control:\n",
            "     Reference  Position Before After   Freq\n",
            "10  KF848938.1       774      T     C  99.96\n",
            "     Reference  Position Before After  Freq\n",
            "10  KF848938.1       235      T     C  0.25\n",
            "match with _58 control:\n",
            "     Reference  Position Before After  Freq\n",
            "12  KF848938.1       859      A     G  0.18\n",
            "     Reference  Position Before After  Freq\n",
            "12  KF848938.1       276      A     G  0.22\n",
            "match with _58 control:\n",
            "     Reference  Position Before After  Freq\n",
            "13  KF848938.1       915      T     C  0.19\n",
            "     Reference  Position Before After  Freq\n",
            "13  KF848938.1       297      T     C   0.2\n",
            "match with _58 control:\n",
            "     Reference  Position Before After  Freq\n",
            "15  KF848938.1      1043      A     G  0.18\n",
            "     Reference  Position Before After  Freq\n",
            "15  KF848938.1       340      T     C  0.23\n",
            "match with _58 control:\n",
            "     Reference  Position Before After  Freq\n",
            "16  KF848938.1      1086      A     G  0.21\n",
            "     Reference  Position Before After  Freq\n",
            "16  KF848938.1       356      A     G  0.22\n",
            "match with _58 control:\n",
            "     Reference  Position Before After  Freq\n",
            "17  KF848938.1      1213      A     G  0.22\n",
            "     Reference  Position Before After  Freq\n",
            "17  KF848938.1       370      A     G  0.21\n",
            "match with _58 control:\n",
            "     Reference  Position Before After   Freq\n",
            "18  KF848938.1      1260      A     C  99.94\n",
            "     Reference  Position Before After  Freq\n",
            "18  KF848938.1       389      T     C  0.23\n",
            "match with _58 control:\n",
            "     Reference  Position Before After  Freq\n",
            "19  KF848938.1      1280      T     C  0.18\n",
            "     Reference  Position Before After  Freq\n",
            "19  KF848938.1       409      T     C  0.22\n"
          ]
        }
      ]
    },
    {
      "cell_type": "code",
      "source": [
        "positions"
      ],
      "metadata": {
        "colab": {
          "base_uri": "https://localhost:8080/"
        },
        "id": "He3NTUh2eIYO",
        "outputId": "ff37a4b5-5262-4d11-cb66-c5dcd1a4ac1e"
      },
      "execution_count": null,
      "outputs": [
        {
          "output_type": "execute_result",
          "data": {
            "text/plain": [
              "[72,\n",
              " 117,\n",
              " 254,\n",
              " 276,\n",
              " 340,\n",
              " 389,\n",
              " 691,\n",
              " 722,\n",
              " 744,\n",
              " 774,\n",
              " 859,\n",
              " 915,\n",
              " 1043,\n",
              " 1086,\n",
              " 1213,\n",
              " 1260,\n",
              " 1280]"
            ]
          },
          "metadata": {},
          "execution_count": 54
        }
      ]
    },
    {
      "cell_type": "markdown",
      "source": [
        "## 8. Epitope mapping"
      ],
      "metadata": {
        "id": "2txZgamW3h5F"
      }
    },
    {
      "cell_type": "markdown",
      "source": [
        "According to the paper, the the hemagglutinin H3 protein has five epitope regions (A–E):\n",
        "* Epitope A (residues 122, 124, 126, 130–133, 135, 137, 138, 140, 142–146, 150, 152, 168)\n",
        "* Epitope B (residues 128, 129, 155–160, 163, 165, 186–190, 192–194, 196–198)\n",
        "* Epitope C (residues 44–48, 50, 51, 53, 54, 273, 275, 276, 278–280, 294, 297, 299, 300, 304, 305, 307–312)\n",
        "* Epitope D (residues 96, 102, 103, 117, 121, 167, 170–177, 179, 182, 201, 203, 207–209, 212–219, 226–230, 238, 240, 242, 244, 246–248)\n",
        "* Epitope E (residues 57, 59, 62, 63, 67, 75, 78, 80–83, 86–88, 91, 92, 94, 109, 260–262, 265)\n",
        "\n",
        "\n"
      ],
      "metadata": {
        "id": "cz1ONmIMD4va"
      }
    },
    {
      "cell_type": "markdown",
      "source": [
        "Among positions with frequency more than avg+3std (1458, 307, 117, 999, 1260, 72, 774) only 307 is present in the epitope. This base is located in the epitope C, which is not the most dominant epitope. Nevertheless, perhaps that was the key-mutation for the virus to escape the vaccine antibodies that we used."
      ],
      "metadata": {
        "id": "YCytu6jiD7pl"
      }
    }
  ]
}